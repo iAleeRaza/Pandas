{
 "cells": [
  {
   "cell_type": "markdown",
   "id": "863b246c",
   "metadata": {},
   "source": [
    "## `Pandas`\n",
    "`Pandas` is a powerful, open-source Python library used for:\n",
    "\n",
    "- Data manipulation\n",
    "\n",
    "- Data analysis\n",
    "\n",
    "- Cleaning and transforming structured data (like CSV, Excel, SQL, etc.)\n",
    "\n",
    "- It is built on top of `NumPy` and is widely used in data science, AI, and machine learning."
   ]
  },
  {
   "cell_type": "code",
   "execution_count": 2,
   "id": "232a2036",
   "metadata": {},
   "outputs": [],
   "source": [
    "import pandas as pd\n",
    "import numpy as np"
   ]
  },
  {
   "cell_type": "markdown",
   "id": "378d9e8e",
   "metadata": {},
   "source": [
    "### `Series:`\n",
    "- A 1-dimensional labeled array (like a single column in Excel)\n",
    "\n",
    "- Can hold any data type (int, float, string, etc.)"
   ]
  },
  {
   "cell_type": "markdown",
   "id": "582b045b",
   "metadata": {},
   "source": [
    "#### `Series from List`"
   ]
  },
  {
   "cell_type": "code",
   "execution_count": 3,
   "id": "52844aaf",
   "metadata": {},
   "outputs": [
    {
     "name": "stdout",
     "output_type": "stream",
     "text": [
      "['Ali', 'John', 'Bob', 'Max', 'Jak', 'Alex']\n"
     ]
    },
    {
     "data": {
      "text/plain": [
       "0     Ali\n",
       "1    John\n",
       "2     Bob\n",
       "3     Max\n",
       "4     Jak\n",
       "5    Alex\n",
       "dtype: object"
      ]
     },
     "execution_count": 3,
     "metadata": {},
     "output_type": "execute_result"
    }
   ],
   "source": [
    "# creating a pandas series using list of strings\n",
    "\n",
    "names = ['Ali', 'John', 'Bob', 'Max', 'Jak', 'Alex']\n",
    "print(names)\n",
    "pd.Series(names)"
   ]
  },
  {
   "cell_type": "code",
   "execution_count": 4,
   "metadata": {},
   "outputs": [
    {
     "data": {
      "text/plain": [
       "0     700\n",
       "1     650\n",
       "2    1000\n",
       "3    1200\n",
       "4     300\n",
       "5     500\n",
       "dtype: int64"
      ]
     },
     "execution_count": 4,
     "metadata": {},
     "output_type": "execute_result"
    }
   ],
   "source": [
    "salary = [700, 650, 1000, 1200, 300, 500]\n",
    "pd.Series(salary)"
   ]
  },
  {
   "cell_type": "code",
   "execution_count": 5,
   "metadata": {},
   "outputs": [
    {
     "data": {
      "text/plain": [
       "Ali      700\n",
       "John     650\n",
       "Bob     1000\n",
       "Max     1200\n",
       "Jak      300\n",
       "Alex     500\n",
       "Name: Salary of all Employes, dtype: int64"
      ]
     },
     "execution_count": 5,
     "metadata": {},
     "output_type": "execute_result"
    }
   ],
   "source": [
    "# Custom indices\n",
    "salary = [700, 650, 1000, 1200, 300, 500]\n",
    "names = ['Ali', 'John', 'Bob', 'Max', 'Jak', 'Alex']\n",
    "\n",
    "emp_salary = pd.Series(salary, index = names, name = 'Salary of all Employes')\n",
    "emp_salary"
   ]
  },
  {
   "cell_type": "markdown",
   "id": "9978445c",
   "metadata": {},
   "source": [
    "#### `Series from dict`"
   ]
  },
  {
   "cell_type": "code",
   "execution_count": 6,
   "metadata": {},
   "outputs": [
    {
     "data": {
      "text/plain": [
       "{'Alex': 2300, 'Ben': 2000, 'Charlie': 1200, 'David': 1500, 'John': 3000}"
      ]
     },
     "execution_count": 6,
     "metadata": {},
     "output_type": "execute_result"
    }
   ],
   "source": [
    "salary = {\n",
    "    'Alex' : 2300,\n",
    "    'Ben' : 2000,\n",
    "    'Charlie' : 1200,\n",
    "    'David' : 1500,\n",
    "    'John' : 3000\n",
    "}\n",
    "salary"
   ]
  },
  {
   "cell_type": "code",
   "execution_count": 14,
   "metadata": {},
   "outputs": [
    {
     "data": {
      "text/plain": [
       "Alex       2300\n",
       "Ben        2000\n",
       "Charlie    1200\n",
       "David      1500\n",
       "John       3000\n",
       "Name: Employee Salaries, dtype: int64"
      ]
     },
     "execution_count": 14,
     "metadata": {},
     "output_type": "execute_result"
    }
   ],
   "source": [
    "salary_series = pd.Series(salary, name = \"Employee Salaries\")\n",
    "salary_series"
   ]
  },
  {
   "cell_type": "markdown",
   "id": "51456dfe",
   "metadata": {},
   "source": [
    "#### `Series Attributes`"
   ]
  },
  {
   "cell_type": "code",
   "execution_count": 15,
   "metadata": {},
   "outputs": [
    {
     "data": {
      "text/plain": [
       "Alex       2300\n",
       "Ben        2000\n",
       "Charlie    1200\n",
       "David      1500\n",
       "John       3000\n",
       "Name: Employee Salaries, dtype: int64"
      ]
     },
     "execution_count": 15,
     "metadata": {},
     "output_type": "execute_result"
    }
   ],
   "source": [
    "salary_series"
   ]
  },
  {
   "cell_type": "code",
   "execution_count": 16,
   "metadata": {},
   "outputs": [
    {
     "data": {
      "text/plain": [
       "5"
      ]
     },
     "execution_count": 16,
     "metadata": {},
     "output_type": "execute_result"
    }
   ],
   "source": [
    "#size (no: of items)\n",
    "salary_series.size\n"
   ]
  },
  {
   "cell_type": "code",
   "execution_count": null,
   "id": "6de0768a",
   "metadata": {},
   "outputs": [
    {
     "data": {
      "text/plain": [
       "dtype('int64')"
      ]
     },
     "execution_count": 17,
     "metadata": {},
     "output_type": "execute_result"
    }
   ],
   "source": [
    "# dtype\n",
    "salary_series.dtype"
   ]
  },
  {
   "cell_type": "code",
   "execution_count": null,
   "id": "d2062961",
   "metadata": {},
   "outputs": [
    {
     "data": {
      "text/plain": [
       "'Employee Salaries'"
      ]
     },
     "execution_count": 18,
     "metadata": {},
     "output_type": "execute_result"
    }
   ],
   "source": [
    "# name\n",
    "salary_series.name"
   ]
  },
  {
   "cell_type": "code",
   "execution_count": null,
   "id": "9a4f4404",
   "metadata": {},
   "outputs": [
    {
     "name": "stdout",
     "output_type": "stream",
     "text": [
      "True\n",
      "False\n"
     ]
    }
   ],
   "source": [
    "# is_unique\n",
    "print(salary_series.is_unique)\n",
    "print(pd.Series([10,20,30,40,20,50,30]).is_unique)"
   ]
  },
  {
   "cell_type": "code",
   "execution_count": null,
   "id": "60b4d612",
   "metadata": {},
   "outputs": [
    {
     "data": {
      "text/plain": [
       "Index(['Alex', 'Ben', 'Charlie', 'David', 'John'], dtype='object')"
      ]
     },
     "execution_count": 22,
     "metadata": {},
     "output_type": "execute_result"
    }
   ],
   "source": [
    "# index\n",
    "salary_series.index"
   ]
  },
  {
   "cell_type": "code",
   "execution_count": 30,
   "id": "1505e65d",
   "metadata": {},
   "outputs": [
    {
     "data": {
      "text/plain": [
       "RangeIndex(start=0, stop=6, step=1)"
      ]
     },
     "execution_count": 30,
     "metadata": {},
     "output_type": "execute_result"
    }
   ],
   "source": [
    "names = ['Ali', 'John', 'Bob', 'Max', 'Jak', 'Alex']\n",
    "names = pd.Series(names)\n",
    "names.index"
   ]
  },
  {
   "cell_type": "code",
   "execution_count": 33,
   "id": "da68e485",
   "metadata": {},
   "outputs": [
    {
     "data": {
      "text/plain": [
       "array([2300, 2000, 1200, 1500, 3000], dtype=int64)"
      ]
     },
     "execution_count": 33,
     "metadata": {},
     "output_type": "execute_result"
    }
   ],
   "source": [
    "# Values\n",
    "salary_series.values"
   ]
  },
  {
   "cell_type": "markdown",
   "id": "97c58bfa",
   "metadata": {},
   "source": [
    "#### `Series Using read_csv`"
   ]
  },
  {
   "cell_type": "markdown",
   "id": "a85b616e",
   "metadata": {},
   "source": []
  }
 ],
 "metadata": {
  "kernelspec": {
   "display_name": "base",
   "language": "python",
   "name": "python3"
  },
  "language_info": {
   "codemirror_mode": {
    "name": "ipython",
    "version": 3
   },
   "file_extension": ".py",
   "mimetype": "text/x-python",
   "name": "python",
   "nbconvert_exporter": "python",
   "pygments_lexer": "ipython3",
   "version": "3.12.4"
  }
 },
 "nbformat": 4,
 "nbformat_minor": 5
}
