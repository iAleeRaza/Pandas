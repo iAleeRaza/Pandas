{
 "cells": [
  {
   "cell_type": "markdown",
   "id": "863b246c",
   "metadata": {},
   "source": [
    "## `Pandas`\n",
    "`Pandas` is a powerful, open-source Python library used for:\n",
    "\n",
    "- Data manipulation\n",
    "\n",
    "- Data analysis\n",
    "\n",
    "- Cleaning and transforming structured data (like CSV, Excel, SQL, etc.)\n",
    "\n",
    "- It is built on top of `NumPy` and is widely used in data science, AI, and machine learning."
   ]
  },
  {
   "cell_type": "code",
   "execution_count": 1,
   "id": "232a2036",
   "metadata": {},
   "outputs": [],
   "source": [
    "import pandas as pd\n",
    "import numpy as np"
   ]
  },
  {
   "cell_type": "markdown",
   "id": "378d9e8e",
   "metadata": {},
   "source": [
    "### `Series:`\n",
    "- A 1-dimensional labeled array (like a single column in Excel)\n",
    "\n",
    "- Can hold any data type (int, float, string, etc.)"
   ]
  },
  {
   "cell_type": "markdown",
   "id": "582b045b",
   "metadata": {},
   "source": [
    "#### `Series from List`"
   ]
  },
  {
   "cell_type": "code",
   "execution_count": null,
   "id": "52844aaf",
   "metadata": {},
   "outputs": [
    {
     "name": "stdout",
     "output_type": "stream",
     "text": [
      "['Ali', 'John', 'Bob', 'Max', 'Jak', 'Alex']\n"
     ]
    },
    {
     "data": {
      "text/plain": [
       "0     Ali\n",
       "1    John\n",
       "2     Bob\n",
       "3     Max\n",
       "4     Jak\n",
       "5    Alex\n",
       "dtype: object"
      ]
     },
     "execution_count": 5,
     "metadata": {},
     "output_type": "execute_result"
    }
   ],
   "source": [
    "# creating a pandas series using list of strings\n",
    "\n",
    "names = ['Ali', 'John', 'Bob', 'Max', 'Jak', 'Alex']\n",
    "print(names)\n",
    "pd.Series(names)"
   ]
  },
  {
   "cell_type": "code",
   "execution_count": 6,
   "metadata": {},
   "outputs": [
    {
     "data": {
      "text/plain": [
       "0     700\n",
       "1     650\n",
       "2    1000\n",
       "3    1200\n",
       "4     300\n",
       "5     500\n",
       "dtype: int64"
      ]
     },
     "execution_count": 6,
     "metadata": {},
     "output_type": "execute_result"
    }
   ],
   "source": [
    "salary = [700, 650, 1000, 1200, 300, 500]\n",
    "pd.Series(salary)"
   ]
  },
  {
   "cell_type": "code",
   "execution_count": 9,
   "metadata": {},
   "outputs": [
    {
     "data": {
      "text/plain": [
       "Ali      700\n",
       "John     650\n",
       "Bob     1000\n",
       "Max     1200\n",
       "Jak      300\n",
       "Alex     500\n",
       "Name: Salary of all Employes, dtype: int64"
      ]
     },
     "execution_count": 9,
     "metadata": {},
     "output_type": "execute_result"
    }
   ],
   "source": [
    "# Custom indices\n",
    "salary = [700, 650, 1000, 1200, 300, 500]\n",
    "names = ['Ali', 'John', 'Bob', 'Max', 'Jak', 'Alex']\n",
    "\n",
    "emp_salary = pd.Series(salary, index = names, name = 'Salary of all Employes')\n",
    "emp_salary"
   ]
  },
  {
   "cell_type": "markdown",
   "id": "9978445c",
   "metadata": {},
   "source": [
    "#### `Series from dict`"
   ]
  },
  {
   "cell_type": "code",
   "execution_count": 12,
   "metadata": {},
   "outputs": [
    {
     "data": {
      "text/plain": [
       "{'Alex': 2300, 'Ben': 2000, 'Charlie': 1200, 'David': 1500, 'John': 3000}"
      ]
     },
     "execution_count": 12,
     "metadata": {},
     "output_type": "execute_result"
    }
   ],
   "source": [
    "salary = {\n",
    "    'Alex' : 2300,\n",
    "    'Ben' : 2000,\n",
    "    'Charlie' : 1200,\n",
    "    'David' : 1500,\n",
    "    'John' : 3000\n",
    "}\n",
    "salary"
   ]
  },
  {
   "cell_type": "code",
   "execution_count": 14,
   "metadata": {},
   "outputs": [
    {
     "data": {
      "text/plain": [
       "Alex       2300\n",
       "Ben        2000\n",
       "Charlie    1200\n",
       "David      1500\n",
       "John       3000\n",
       "dtype: int64"
      ]
     },
     "execution_count": 14,
     "metadata": {},
     "output_type": "execute_result"
    }
   ],
   "source": [
    "salary_series = pd.Series(salary)\n",
    "salary_series"
   ]
  },
  {
   "cell_type": "code",
   "execution_count": null,
   "metadata": {},
   "outputs": [],
   "source": []
  },
  {
   "cell_type": "code",
   "execution_count": null,
   "metadata": {},
   "outputs": [],
   "source": []
  },
  {
   "cell_type": "code",
   "execution_count": null,
   "id": "6de0768a",
   "metadata": {},
   "outputs": [],
   "source": []
  }
 ],
 "metadata": {
  "kernelspec": {
   "display_name": "base",
   "language": "python",
   "name": "python3"
  },
  "language_info": {
   "codemirror_mode": {
    "name": "ipython",
    "version": 3
   },
   "file_extension": ".py",
   "mimetype": "text/x-python",
   "name": "python",
   "nbconvert_exporter": "python",
   "pygments_lexer": "ipython3",
   "version": "3.12.4"
  }
 },
 "nbformat": 4,
 "nbformat_minor": 5
}
