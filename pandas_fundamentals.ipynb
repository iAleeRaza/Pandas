{
 "cells": [
  {
   "cell_type": "markdown",
   "id": "863b246c",
   "metadata": {},
   "source": [
    "## `Pandas`\n",
    "`Pandas` is a powerful, open-source Python library used for:\n",
    "\n",
    "- Data manipulation\n",
    "\n",
    "- Data analysis\n",
    "\n",
    "- Cleaning and transforming structured data (like CSV, Excel, SQL, etc.)\n",
    "\n",
    "- It is built on top of `NumPy` and is widely used in data science, AI, and machine learning."
   ]
  },
  {
   "cell_type": "code",
   "execution_count": 1,
   "id": "232a2036",
   "metadata": {},
   "outputs": [],
   "source": [
    "import pandas as pd\n",
    "import numpy as np"
   ]
  },
  {
   "cell_type": "markdown",
   "id": "378d9e8e",
   "metadata": {},
   "source": [
    "### `Series:`\n",
    "- A 1-dimensional labeled array (like a single column in Excel)\n",
    "\n",
    "- Can hold any data type (int, float, string, etc.)"
   ]
  },
  {
   "cell_type": "markdown",
   "id": "582b045b",
   "metadata": {},
   "source": [
    "#### `Series from List`"
   ]
  },
  {
   "cell_type": "code",
   "execution_count": 3,
   "id": "52844aaf",
   "metadata": {},
   "outputs": [
    {
     "name": "stdout",
     "output_type": "stream",
     "text": [
      "['Ali', 'John', 'Bob', 'Max', 'Jak', 'Alex']\n"
     ]
    },
    {
     "data": {
      "text/plain": [
       "0     Ali\n",
       "1    John\n",
       "2     Bob\n",
       "3     Max\n",
       "4     Jak\n",
       "5    Alex\n",
       "dtype: object"
      ]
     },
     "execution_count": 3,
     "metadata": {},
     "output_type": "execute_result"
    }
   ],
   "source": [
    "# creating a pandas series using list of strings\n",
    "\n",
    "names = ['Ali', 'John', 'Bob', 'Max', 'Jak', 'Alex']\n",
    "print(names)\n",
    "pd.Series(names)"
   ]
  },
  {
   "cell_type": "code",
   "execution_count": 4,
   "metadata": {},
   "outputs": [
    {
     "data": {
      "text/plain": [
       "0     700\n",
       "1     650\n",
       "2    1000\n",
       "3    1200\n",
       "4     300\n",
       "5     500\n",
       "dtype: int64"
      ]
     },
     "execution_count": 4,
     "metadata": {},
     "output_type": "execute_result"
    }
   ],
   "source": [
    "salary = [700, 650, 1000, 1200, 300, 500]\n",
    "pd.Series(salary)"
   ]
  },
  {
   "cell_type": "code",
   "execution_count": 5,
   "metadata": {},
   "outputs": [
    {
     "data": {
      "text/plain": [
       "Ali      700\n",
       "John     650\n",
       "Bob     1000\n",
       "Max     1200\n",
       "Jak      300\n",
       "Alex     500\n",
       "Name: Salary of all Employes, dtype: int64"
      ]
     },
     "execution_count": 5,
     "metadata": {},
     "output_type": "execute_result"
    }
   ],
   "source": [
    "# Custom indices\n",
    "salary = [700, 650, 1000, 1200, 300, 500]\n",
    "names = ['Ali', 'John', 'Bob', 'Max', 'Jak', 'Alex']\n",
    "\n",
    "emp_salary = pd.Series(salary, index = names, name = 'Salary of all Employes')\n",
    "emp_salary"
   ]
  },
  {
   "cell_type": "markdown",
   "id": "9978445c",
   "metadata": {},
   "source": [
    "#### `Series from dict`"
   ]
  },
  {
   "cell_type": "code",
   "execution_count": 6,
   "metadata": {},
   "outputs": [
    {
     "data": {
      "text/plain": [
       "{'Alex': 2300, 'Ben': 2000, 'Charlie': 1200, 'David': 1500, 'John': 3000}"
      ]
     },
     "execution_count": 6,
     "metadata": {},
     "output_type": "execute_result"
    }
   ],
   "source": [
    "salary = {\n",
    "    'Alex' : 2300,\n",
    "    'Ben' : 2000,\n",
    "    'Charlie' : 1200,\n",
    "    'David' : 1500,\n",
    "    'John' : 3000\n",
    "}\n",
    "salary"
   ]
  },
  {
   "cell_type": "code",
   "execution_count": 14,
   "metadata": {},
   "outputs": [
    {
     "data": {
      "text/plain": [
       "Alex       2300\n",
       "Ben        2000\n",
       "Charlie    1200\n",
       "David      1500\n",
       "John       3000\n",
       "Name: Employee Salaries, dtype: int64"
      ]
     },
     "execution_count": 14,
     "metadata": {},
     "output_type": "execute_result"
    }
   ],
   "source": [
    "salary_series = pd.Series(salary, name = \"Employee Salaries\")\n",
    "salary_series"
   ]
  },
  {
   "cell_type": "markdown",
   "id": "51456dfe",
   "metadata": {},
   "source": [
    "#### `Series Attributes`"
   ]
  },
  {
   "cell_type": "code",
   "execution_count": 15,
   "metadata": {},
   "outputs": [
    {
     "data": {
      "text/plain": [
       "Alex       2300\n",
       "Ben        2000\n",
       "Charlie    1200\n",
       "David      1500\n",
       "John       3000\n",
       "Name: Employee Salaries, dtype: int64"
      ]
     },
     "execution_count": 15,
     "metadata": {},
     "output_type": "execute_result"
    }
   ],
   "source": [
    "salary_series"
   ]
  },
  {
   "cell_type": "code",
   "execution_count": 16,
   "metadata": {},
   "outputs": [
    {
     "data": {
      "text/plain": [
       "5"
      ]
     },
     "execution_count": 16,
     "metadata": {},
     "output_type": "execute_result"
    }
   ],
   "source": [
    "#size (no: of items)\n",
    "salary_series.size\n"
   ]
  },
  {
   "cell_type": "code",
   "execution_count": null,
   "id": "6de0768a",
   "metadata": {},
   "outputs": [
    {
     "data": {
      "text/plain": [
       "dtype('int64')"
      ]
     },
     "execution_count": 17,
     "metadata": {},
     "output_type": "execute_result"
    }
   ],
   "source": [
    "# dtype\n",
    "salary_series.dtype"
   ]
  },
  {
   "cell_type": "code",
   "execution_count": null,
   "id": "d2062961",
   "metadata": {},
   "outputs": [
    {
     "data": {
      "text/plain": [
       "'Employee Salaries'"
      ]
     },
     "execution_count": 18,
     "metadata": {},
     "output_type": "execute_result"
    }
   ],
   "source": [
    "# name\n",
    "salary_series.name"
   ]
  },
  {
   "cell_type": "code",
   "execution_count": null,
   "id": "9a4f4404",
   "metadata": {},
   "outputs": [
    {
     "name": "stdout",
     "output_type": "stream",
     "text": [
      "True\n",
      "False\n"
     ]
    }
   ],
   "source": [
    "# is_unique\n",
    "print(salary_series.is_unique)\n",
    "print(pd.Series([10,20,30,40,20,50,30]).is_unique)"
   ]
  },
  {
   "cell_type": "code",
   "execution_count": null,
   "id": "60b4d612",
   "metadata": {},
   "outputs": [
    {
     "data": {
      "text/plain": [
       "Index(['Alex', 'Ben', 'Charlie', 'David', 'John'], dtype='object')"
      ]
     },
     "execution_count": 22,
     "metadata": {},
     "output_type": "execute_result"
    }
   ],
   "source": [
    "# index\n",
    "salary_series.index"
   ]
  },
  {
   "cell_type": "code",
   "execution_count": 30,
   "id": "1505e65d",
   "metadata": {},
   "outputs": [
    {
     "data": {
      "text/plain": [
       "RangeIndex(start=0, stop=6, step=1)"
      ]
     },
     "execution_count": 30,
     "metadata": {},
     "output_type": "execute_result"
    }
   ],
   "source": [
    "names = ['Ali', 'John', 'Bob', 'Max', 'Jak', 'Alex']\n",
    "names = pd.Series(names)\n",
    "names.index"
   ]
  },
  {
   "cell_type": "code",
   "execution_count": 33,
   "id": "da68e485",
   "metadata": {},
   "outputs": [
    {
     "data": {
      "text/plain": [
       "array([2300, 2000, 1200, 1500, 3000], dtype=int64)"
      ]
     },
     "execution_count": 33,
     "metadata": {},
     "output_type": "execute_result"
    }
   ],
   "source": [
    "# Values\n",
    "salary_series.values"
   ]
  },
  {
   "cell_type": "markdown",
   "id": "97c58bfa",
   "metadata": {},
   "source": [
    "#### `Series Using read_csv`"
   ]
  },
  {
   "cell_type": "code",
   "execution_count": 3,
   "id": "3c301727",
   "metadata": {},
   "outputs": [
    {
     "data": {
      "text/plain": [
       "pandas.core.frame.DataFrame"
      ]
     },
     "execution_count": 3,
     "metadata": {},
     "output_type": "execute_result"
    }
   ],
   "source": [
    "# one column\n",
    "subs = pd.read_csv('data\\\\subs.csv')\n",
    "type(subs)"
   ]
  },
  {
   "cell_type": "code",
   "execution_count": null,
   "metadata": {},
   "outputs": [
    {
     "data": {
      "text/plain": [
       "pandas.core.series.Series"
      ]
     },
     "execution_count": 4,
     "metadata": {},
     "output_type": "execute_result"
    }
   ],
   "source": [
    "subs = subs.squeeze()\n",
    "type(subs)"
   ]
  },
  {
   "cell_type": "code",
   "execution_count": 22,
   "id": "572eb3eb",
   "metadata": {},
   "outputs": [],
   "source": [
    "runs = pd.read_csv('data\\\\kohli_ipl.csv', index_col = 'match_no')"
   ]
  },
  {
   "cell_type": "code",
   "execution_count": 24,
   "id": "ad8f8554",
   "metadata": {},
   "outputs": [
    {
     "data": {
      "text/plain": [
       "match_no\n",
       "1       1\n",
       "2      23\n",
       "3      13\n",
       "4      12\n",
       "5       1\n",
       "       ..\n",
       "211     0\n",
       "212    20\n",
       "213    73\n",
       "214    25\n",
       "215     7\n",
       "Name: runs, Length: 215, dtype: int64"
      ]
     },
     "execution_count": 24,
     "metadata": {},
     "output_type": "execute_result"
    }
   ],
   "source": [
    "runs = runs.squeeze()\n",
    "runs"
   ]
  },
  {
   "cell_type": "code",
   "execution_count": 12,
   "id": "22485710",
   "metadata": {},
   "outputs": [
    {
     "data": {
      "text/plain": [
       "movie\n",
       "Uri: The Surgical Strike                   Vicky Kaushal\n",
       "Battalion 609                                Vicky Ahuja\n",
       "The Accidental Prime Minister (film)         Anupam Kher\n",
       "Why Cheat India                            Emraan Hashmi\n",
       "Evening Shadows                         Mona Ambegaonkar\n",
       "                                              ...       \n",
       "Hum Tumhare Hain Sanam                    Shah Rukh Khan\n",
       "Aankhen (2002 film)                     Amitabh Bachchan\n",
       "Saathiya (film)                             Vivek Oberoi\n",
       "Company (film)                                Ajay Devgn\n",
       "Awara Paagal Deewana                        Akshay Kumar\n",
       "Name: lead, Length: 1500, dtype: object"
      ]
     },
     "execution_count": 12,
     "metadata": {},
     "output_type": "execute_result"
    }
   ],
   "source": [
    "movies = pd.read_csv('data\\\\bollywood.csv', index_col = 'movie').squeeze()\n",
    "movies"
   ]
  },
  {
   "cell_type": "markdown",
   "id": "e26439ec",
   "metadata": {},
   "source": [
    "#### `Series Methods`"
   ]
  },
  {
   "cell_type": "code",
   "execution_count": null,
   "id": "5f3758f6",
   "metadata": {},
   "outputs": [
    {
     "data": {
      "text/plain": [
       "0    48\n",
       "1    57\n",
       "2    40\n",
       "3    43\n",
       "4    44\n",
       "Name: Subscribers gained, dtype: int64"
      ]
     },
     "execution_count": 5,
     "metadata": {},
     "output_type": "execute_result"
    }
   ],
   "source": [
    "# head & tail\n",
    "# first 5 items\n",
    "subs.head() #type: ignore"
   ]
  },
  {
   "cell_type": "code",
   "execution_count": null,
   "id": "0277cb32",
   "metadata": {},
   "outputs": [
    {
     "data": {
      "text/plain": [
       "0    48\n",
       "1    57\n",
       "2    40\n",
       "3    43\n",
       "4    44\n",
       "5    46\n",
       "6    33\n",
       "7    40\n",
       "8    44\n",
       "9    74\n",
       "Name: Subscribers gained, dtype: int64"
      ]
     },
     "execution_count": 15,
     "metadata": {},
     "output_type": "execute_result"
    }
   ],
   "source": [
    "subs.head(10) # type: ignore"
   ]
  },
  {
   "cell_type": "code",
   "execution_count": null,
   "id": "7ef6fbf1",
   "metadata": {},
   "outputs": [
    {
     "data": {
      "text/plain": [
       "360    231\n",
       "361    226\n",
       "362    155\n",
       "363    144\n",
       "364    172\n",
       "Name: Subscribers gained, dtype: int64"
      ]
     },
     "execution_count": 6,
     "metadata": {},
     "output_type": "execute_result"
    }
   ],
   "source": [
    "# last 5 items\n",
    "subs.tail() #type:ignore"
   ]
  },
  {
   "cell_type": "code",
   "execution_count": 16,
   "id": "2c8ce3a9",
   "metadata": {},
   "outputs": [
    {
     "data": {
      "text/plain": [
       "355    149\n",
       "356    156\n",
       "357    177\n",
       "358    210\n",
       "359    209\n",
       "360    231\n",
       "361    226\n",
       "362    155\n",
       "363    144\n",
       "364    172\n",
       "Name: Subscribers gained, dtype: int64"
      ]
     },
     "execution_count": 16,
     "metadata": {},
     "output_type": "execute_result"
    }
   ],
   "source": [
    "subs.tail(10) #type:ignore"
   ]
  },
  {
   "cell_type": "code",
   "execution_count": null,
   "id": "5129d178",
   "metadata": {},
   "outputs": [
    {
     "data": {
      "text/plain": [
       "movie\n",
       "Rough Book    Tannishtha Chatterjee\n",
       "Name: lead, dtype: object"
      ]
     },
     "execution_count": 11,
     "metadata": {},
     "output_type": "execute_result"
    }
   ],
   "source": [
    "#sample\n",
    "movies.sample() #type: ignore"
   ]
  },
  {
   "cell_type": "code",
   "execution_count": 17,
   "id": "bd4c0541",
   "metadata": {},
   "outputs": [
    {
     "data": {
      "text/plain": [
       "movie\n",
       "Maan Gaye Mughal-e-Azam      Mallika Sherawat\n",
       "Phata Poster Nikhla Hero        Shahid Kapoor\n",
       "Kaalo                       Aditya Srivastava\n",
       "The Last Lear                Amitabh Bachchan\n",
       "Band Baaja Baaraat              Ranveer Singh\n",
       "Chillar Party                    Aarav Khanna\n",
       "Udta Punjab                     Shahid Kapoor\n",
       "Waarrior Savitri             Niharica Raizada\n",
       "Ek Se Bure Do                           Anita\n",
       "Pihu                              Rahul Bagga\n",
       "Name: lead, dtype: object"
      ]
     },
     "execution_count": 17,
     "metadata": {},
     "output_type": "execute_result"
    }
   ],
   "source": [
    "movies.sample(10) #type: ignore"
   ]
  },
  {
   "cell_type": "code",
   "execution_count": 20,
   "id": "a9be347f",
   "metadata": {},
   "outputs": [
    {
     "data": {
      "text/plain": [
       "lead\n",
       "Akshay Kumar        48\n",
       "Amitabh Bachchan    45\n",
       "Ajay Devgn          38\n",
       "Salman Khan         31\n",
       "Sanjay Dutt         26\n",
       "                    ..\n",
       "Diganth              1\n",
       "Parveen Kaur         1\n",
       "Seema Azmi           1\n",
       "Akanksha Puri        1\n",
       "Edwin Fernandes      1\n",
       "Name: count, Length: 566, dtype: int64"
      ]
     },
     "execution_count": 20,
     "metadata": {},
     "output_type": "execute_result"
    }
   ],
   "source": [
    "# value_counts (finds out how many times a value occured in the data)\n",
    "movies.value_counts()"
   ]
  },
  {
   "cell_type": "code",
   "execution_count": null,
   "id": "adabebcb",
   "metadata": {},
   "outputs": [
    {
     "data": {
      "text/plain": [
       "match_no\n",
       "87       0\n",
       "211      0\n",
       "207      0\n",
       "206      0\n",
       "91       0\n",
       "      ... \n",
       "164    100\n",
       "120    100\n",
       "123    108\n",
       "126    109\n",
       "128    113\n",
       "Name: runs, Length: 215, dtype: int64"
      ]
     },
     "execution_count": 29,
     "metadata": {},
     "output_type": "execute_result"
    }
   ],
   "source": [
    "# sort_values --> tamporary changes (inplace = False)\n",
    "runs.sort_values()"
   ]
  },
  {
   "cell_type": "code",
   "execution_count": 31,
   "id": "4d44b126",
   "metadata": {},
   "outputs": [
    {
     "data": {
      "text/plain": [
       "113"
      ]
     },
     "execution_count": 31,
     "metadata": {},
     "output_type": "execute_result"
    }
   ],
   "source": [
    "#method chaining\n",
    "runs.sort_values(ascending = False).head(1).values[0] # gives the highest run value"
   ]
  },
  {
   "cell_type": "code",
   "execution_count": 32,
   "id": "edecd206",
   "metadata": {},
   "outputs": [
    {
     "data": {
      "text/plain": [
       "match_no\n",
       "1       1\n",
       "2      23\n",
       "3      13\n",
       "4      12\n",
       "5       1\n",
       "       ..\n",
       "211     0\n",
       "212    20\n",
       "213    73\n",
       "214    25\n",
       "215     7\n",
       "Name: runs, Length: 215, dtype: int64"
      ]
     },
     "execution_count": 32,
     "metadata": {},
     "output_type": "execute_result"
    }
   ],
   "source": [
    "runs"
   ]
  },
  {
   "cell_type": "code",
   "execution_count": 34,
   "id": "46dc6c3f",
   "metadata": {},
   "outputs": [],
   "source": [
    "runs = runs.copy()"
   ]
  },
  {
   "cell_type": "code",
   "execution_count": null,
   "id": "2ededdce",
   "metadata": {},
   "outputs": [],
   "source": [
    "runs.sort_values(inplace = True) #permanant changes"
   ]
  },
  {
   "cell_type": "code",
   "execution_count": 37,
   "id": "f7f8dfce",
   "metadata": {},
   "outputs": [
    {
     "data": {
      "text/plain": [
       "match_no\n",
       "87       0\n",
       "211      0\n",
       "207      0\n",
       "206      0\n",
       "91       0\n",
       "      ... \n",
       "164    100\n",
       "120    100\n",
       "123    108\n",
       "126    109\n",
       "128    113\n",
       "Name: runs, Length: 215, dtype: int64"
      ]
     },
     "execution_count": 37,
     "metadata": {},
     "output_type": "execute_result"
    }
   ],
   "source": [
    "runs"
   ]
  },
  {
   "cell_type": "code",
   "execution_count": 38,
   "id": "53feac04",
   "metadata": {},
   "outputs": [
    {
     "data": {
      "text/plain": [
       "movie\n",
       "Uri: The Surgical Strike                   Vicky Kaushal\n",
       "Battalion 609                                Vicky Ahuja\n",
       "The Accidental Prime Minister (film)         Anupam Kher\n",
       "Why Cheat India                            Emraan Hashmi\n",
       "Evening Shadows                         Mona Ambegaonkar\n",
       "                                              ...       \n",
       "Hum Tumhare Hain Sanam                    Shah Rukh Khan\n",
       "Aankhen (2002 film)                     Amitabh Bachchan\n",
       "Saathiya (film)                             Vivek Oberoi\n",
       "Company (film)                                Ajay Devgn\n",
       "Awara Paagal Deewana                        Akshay Kumar\n",
       "Name: lead, Length: 1500, dtype: object"
      ]
     },
     "execution_count": 38,
     "metadata": {},
     "output_type": "execute_result"
    }
   ],
   "source": [
    "movies"
   ]
  },
  {
   "cell_type": "code",
   "execution_count": null,
   "id": "b948ac2f",
   "metadata": {},
   "outputs": [
    {
     "data": {
      "text/plain": [
       "movie\n",
       "1920 (film)                   Rajniesh Duggall\n",
       "1920: London                     Sharman Joshi\n",
       "1920: The Evil Returns             Vicky Ahuja\n",
       "1971 (2007 film)                Manoj Bajpayee\n",
       "2 States (2014 film)              Arjun Kapoor\n",
       "                                   ...        \n",
       "Zindagi 50-50                      Veena Malik\n",
       "Zindagi Na Milegi Dobara        Hrithik Roshan\n",
       "Zindagi Tere Naam           Mithun Chakraborty\n",
       "Zokkomon                       Darsheel Safary\n",
       "Zor Lagaa Ke...Haiya!            Meghan Jadhav\n",
       "Name: lead, Length: 1500, dtype: object"
      ]
     },
     "execution_count": 39,
     "metadata": {},
     "output_type": "execute_result"
    }
   ],
   "source": [
    "# sort_index\n",
    "movies.sort_index()"
   ]
  },
  {
   "cell_type": "markdown",
   "id": "1a1f54e1",
   "metadata": {},
   "source": [
    "#### `Series Maths Methods`"
   ]
  },
  {
   "cell_type": "code",
   "execution_count": 43,
   "id": "aca834dc",
   "metadata": {},
   "outputs": [
    {
     "data": {
      "text/plain": [
       "215"
      ]
     },
     "execution_count": 43,
     "metadata": {},
     "output_type": "execute_result"
    }
   ],
   "source": [
    "# count (counts all the Not-Null values)\n",
    "runs.count()"
   ]
  },
  {
   "cell_type": "code",
   "execution_count": 45,
   "id": "9c85ac78",
   "metadata": {},
   "outputs": [
    {
     "name": "stdout",
     "output_type": "stream",
     "text": [
      "49510\n",
      "0\n"
     ]
    }
   ],
   "source": [
    "# sum (sum of all the elements)\n",
    "# product (product of all the elements)\n",
    "print(subs.sum())\n",
    "print(subs.product())"
   ]
  },
  {
   "cell_type": "code",
   "execution_count": 56,
   "id": "a2d0e050",
   "metadata": {},
   "outputs": [
    {
     "name": "stdout",
     "output_type": "stream",
     "text": [
      "135.64383561643837\n",
      "123.0\n",
      "0    Akshay Kumar\n",
      "Name: lead, dtype: object\n",
      "62.67502303725269\n",
      "3928.1585127201556\n"
     ]
    }
   ],
   "source": [
    "# mean --> median --> mode --> std --> var\n",
    "\n",
    "print(subs.mean())\n",
    "print(subs.median())\n",
    "print(movies.mode()) # most frequent item\n",
    "print(subs.std())\n",
    "print(subs.var())"
   ]
  },
  {
   "cell_type": "code",
   "execution_count": 58,
   "id": "2d0c03b6",
   "metadata": {},
   "outputs": [
    {
     "name": "stdout",
     "output_type": "stream",
     "text": [
      "33\n",
      "396\n"
     ]
    }
   ],
   "source": [
    "# min/max\n",
    "print(subs.min())\n",
    "print(subs.max())"
   ]
  },
  {
   "cell_type": "code",
   "execution_count": 69,
   "id": "bae2335f",
   "metadata": {},
   "outputs": [
    {
     "data": {
      "text/plain": [
       "count    215.000000\n",
       "mean      30.855814\n",
       "std       26.229801\n",
       "min        0.000000\n",
       "25%        9.000000\n",
       "50%       24.000000\n",
       "75%       48.000000\n",
       "max      113.000000\n",
       "Name: runs, dtype: float64"
      ]
     },
     "execution_count": 69,
     "metadata": {},
     "output_type": "execute_result"
    }
   ],
   "source": [
    "runs.describe()"
   ]
  },
  {
   "cell_type": "markdown",
   "id": "5e91210d",
   "metadata": {},
   "source": [
    "#### `Series Indexing & Slicing`"
   ]
  },
  {
   "cell_type": "code",
   "execution_count": 93,
   "id": "f927ab1f",
   "metadata": {},
   "outputs": [
    {
     "data": {
      "text/plain": [
       "movie\n",
       "Uri: The Surgical Strike                   Vicky Kaushal\n",
       "Battalion 609                                Vicky Ahuja\n",
       "The Accidental Prime Minister (film)         Anupam Kher\n",
       "Why Cheat India                            Emraan Hashmi\n",
       "Evening Shadows                         Mona Ambegaonkar\n",
       "                                              ...       \n",
       "Hum Tumhare Hain Sanam                    Shah Rukh Khan\n",
       "Aankhen (2002 film)                     Amitabh Bachchan\n",
       "Saathiya (film)                             Vivek Oberoi\n",
       "Company (film)                                Ajay Devgn\n",
       "Awara Paagal Deewana                        Akshay Kumar\n",
       "Name: lead, Length: 1500, dtype: object"
      ]
     },
     "execution_count": 93,
     "metadata": {},
     "output_type": "execute_result"
    }
   ],
   "source": [
    "movies"
   ]
  },
  {
   "cell_type": "code",
   "execution_count": null,
   "id": "d7deba03",
   "metadata": {},
   "outputs": [
    {
     "data": {
      "text/plain": [
       "'Rajniesh Duggall'"
      ]
     },
     "execution_count": 80,
     "metadata": {},
     "output_type": "execute_result"
    }
   ],
   "source": [
    "# label based (not Index)\n",
    "movies['1920 (film)'] "
   ]
  },
  {
   "cell_type": "code",
   "execution_count": null,
   "id": "eacc2439",
   "metadata": {},
   "outputs": [
    {
     "data": {
      "text/plain": [
       "movie\n",
       "1920 (film)     Rajniesh Duggall\n",
       "1920: London       Sharman Joshi\n",
       "Name: lead, dtype: object"
      ]
     },
     "execution_count": 79,
     "metadata": {},
     "output_type": "execute_result"
    }
   ],
   "source": [
    "# can take a list of labels\n",
    "movies[['1920 (film)', '1920: London']]"
   ]
  },
  {
   "cell_type": "code",
   "execution_count": null,
   "id": "16849296",
   "metadata": {},
   "outputs": [
    {
     "data": {
      "text/plain": [
       "'Darsheel Safary'"
      ]
     },
     "execution_count": 82,
     "metadata": {},
     "output_type": "execute_result"
    }
   ],
   "source": [
    "# .loc[] (strictly label based)\n",
    "movies.loc['Zokkomon'] "
   ]
  },
  {
   "cell_type": "code",
   "execution_count": 95,
   "id": "7cff880f",
   "metadata": {},
   "outputs": [
    {
     "data": {
      "text/plain": [
       "movie\n",
       "Zokkomon         Darsheel Safary\n",
       "Zindagi 50-50        Veena Malik\n",
       "Battalion 609        Vicky Ahuja\n",
       "Name: lead, dtype: object"
      ]
     },
     "execution_count": 95,
     "metadata": {},
     "output_type": "execute_result"
    }
   ],
   "source": [
    "# can take a list of labels\n",
    "movies.loc[['Zokkomon', 'Zindagi 50-50', 'Battalion 609']] "
   ]
  },
  {
   "cell_type": "code",
   "execution_count": null,
   "id": "33df2a66",
   "metadata": {},
   "outputs": [
    {
     "data": {
      "text/plain": [
       "168    306\n",
       "233    301\n",
       "330    396\n",
       "331    312\n",
       "Name: Subscribers gained, dtype: int64"
      ]
     },
     "execution_count": 90,
     "metadata": {},
     "output_type": "execute_result"
    }
   ],
   "source": [
    "# support boolean masks\n",
    "subs.loc[subs > 300]"
   ]
  },
  {
   "cell_type": "code",
   "execution_count": 108,
   "id": "70b01467",
   "metadata": {},
   "outputs": [
    {
     "data": {
      "text/plain": [
       "match_no\n",
       "1       1\n",
       "3      13\n",
       "5       1\n",
       "7      34\n",
       "9      21\n",
       "       ..\n",
       "207     0\n",
       "209    58\n",
       "211     0\n",
       "213    73\n",
       "215     7\n",
       "Name: runs, Length: 108, dtype: int64"
      ]
     },
     "execution_count": 108,
     "metadata": {},
     "output_type": "execute_result"
    }
   ],
   "source": [
    "# slicing using .loc[]\n",
    "runs.loc[::2]"
   ]
  },
  {
   "cell_type": "code",
   "execution_count": 109,
   "id": "6f4f5d4c",
   "metadata": {},
   "outputs": [
    {
     "data": {
      "text/plain": [
       "match_no\n",
       "200    41\n",
       "201    12\n",
       "202     5\n",
       "203    48\n",
       "204     1\n",
       "205    12\n",
       "Name: runs, dtype: int64"
      ]
     },
     "execution_count": 109,
     "metadata": {},
     "output_type": "execute_result"
    }
   ],
   "source": [
    "runs.loc[200:205]"
   ]
  },
  {
   "cell_type": "code",
   "execution_count": 110,
   "id": "6878c6c5",
   "metadata": {},
   "outputs": [
    {
     "data": {
      "text/plain": [
       "'Geetika Vidya Ohlyan'"
      ]
     },
     "execution_count": 110,
     "metadata": {},
     "output_type": "execute_result"
    }
   ],
   "source": [
    "# .iloc[] (position based indexing)\n",
    "# single integer\n",
    "\n",
    "movies.iloc[5]\n"
   ]
  },
  {
   "cell_type": "code",
   "execution_count": 113,
   "id": "07666d98",
   "metadata": {},
   "outputs": [
    {
     "data": {
      "text/plain": [
       "movie\n",
       "Notebook (2019 film)        Zaheer Iqbal\n",
       "Chicken Curry Law       Natalia Janoszek\n",
       "Jhalki                       Boman Irani\n",
       "October (2018 film)         Varun Dhawan\n",
       "Name: lead, dtype: object"
      ]
     },
     "execution_count": 113,
     "metadata": {},
     "output_type": "execute_result"
    }
   ],
   "source": [
    "#list of positions\n",
    "movies.iloc[[23,45,67,100]]"
   ]
  },
  {
   "cell_type": "code",
   "execution_count": 114,
   "id": "a4a11ffe",
   "metadata": {},
   "outputs": [
    {
     "data": {
      "text/plain": [
       "movie\n",
       "Student of the Year 2          Tiger Shroff\n",
       "PM Narendra Modi                Boman Irani\n",
       "De De Pyaar De                   Ajay Devgn\n",
       "India's Most Wanted (film)     Arjun Kapoor\n",
       "Yeh Hai India                  Gavie Chahal\n",
       "Khamoshi (2019 film)            Prabhu Deva\n",
       "Kabir Singh                   Shahid Kapoor\n",
       "Name: lead, dtype: object"
      ]
     },
     "execution_count": 114,
     "metadata": {},
     "output_type": "execute_result"
    }
   ],
   "source": [
    "# positional slicing\n",
    "movies.iloc[30:37]"
   ]
  },
  {
   "cell_type": "code",
   "execution_count": 119,
   "id": "97d9037e",
   "metadata": {},
   "outputs": [
    {
     "data": {
      "text/plain": [
       "movie\n",
       "Uri: The Surgical Strike    Vicky Kaushal\n",
       "Love per Square Foot        Vicky Kaushal\n",
       "Name: lead, dtype: object"
      ]
     },
     "execution_count": 119,
     "metadata": {},
     "output_type": "execute_result"
    }
   ],
   "source": [
    "# boolean masks\n",
    "movies.iloc[movies.values == 'Vicky Kaushal'] "
   ]
  },
  {
   "cell_type": "code",
   "execution_count": 120,
   "id": "e1b4593c",
   "metadata": {},
   "outputs": [
    {
     "data": {
      "text/plain": [
       "'Vicky Kaushal'"
      ]
     },
     "execution_count": 120,
     "metadata": {},
     "output_type": "execute_result"
    }
   ],
   "source": [
    "# .at[]\n",
    "# fatest accessor for single item lookup with label\n",
    "movies.at[\"Love per Square Foot\"]"
   ]
  },
  {
   "cell_type": "code",
   "execution_count": 121,
   "id": "b60190cd",
   "metadata": {},
   "outputs": [
    {
     "data": {
      "text/plain": [
       "'Emraan Hashmi'"
      ]
     },
     "execution_count": 121,
     "metadata": {},
     "output_type": "execute_result"
    }
   ],
   "source": [
    "# .iat[]\n",
    "# # fatest accessor for single item lookup with position\n",
    "movies.iat[3]\n"
   ]
  },
  {
   "cell_type": "code",
   "execution_count": null,
   "id": "414f8ead",
   "metadata": {},
   "outputs": [],
   "source": []
  }
 ],
 "metadata": {
  "kernelspec": {
   "display_name": "base",
   "language": "python",
   "name": "python3"
  },
  "language_info": {
   "codemirror_mode": {
    "name": "ipython",
    "version": 3
   },
   "file_extension": ".py",
   "mimetype": "text/x-python",
   "name": "python",
   "nbconvert_exporter": "python",
   "pygments_lexer": "ipython3",
   "version": "3.12.4"
  }
 },
 "nbformat": 4,
 "nbformat_minor": 5
}
