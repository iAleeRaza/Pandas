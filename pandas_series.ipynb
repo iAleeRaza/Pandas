{
 "cells": [
  {
   "cell_type": "markdown",
   "id": "863b246c",
   "metadata": {},
   "source": [
    "## `Pandas`\n",
    "`Pandas` is a powerful, open-source Python library used for:\n",
    "\n",
    "- Data manipulation\n",
    "\n",
    "- Data analysis\n",
    "\n",
    "- Cleaning and transforming structured data (like CSV, Excel, SQL, etc.)\n",
    "\n",
    "- It is built on top of `NumPy` and is widely used in data science, AI, and machine learning."
   ]
  },
  {
   "cell_type": "code",
   "execution_count": 1,
   "id": "232a2036",
   "metadata": {},
   "outputs": [],
   "source": [
    "import pandas as pd\n",
    "import numpy as np"
   ]
  },
  {
   "cell_type": "markdown",
   "id": "378d9e8e",
   "metadata": {},
   "source": [
    "### `Series:`\n",
    "- A 1-dimensional labeled array (like a single column in Excel)\n",
    "\n",
    "- Can hold any data type (int, float, string, etc.)"
   ]
  },
  {
   "cell_type": "markdown",
   "id": "582b045b",
   "metadata": {},
   "source": [
    "#### `Series from List`"
   ]
  },
  {
   "cell_type": "code",
   "execution_count": 3,
   "id": "52844aaf",
   "metadata": {},
   "outputs": [
    {
     "name": "stdout",
     "output_type": "stream",
     "text": [
      "['Ali', 'John', 'Bob', 'Max', 'Jak', 'Alex']\n"
     ]
    },
    {
     "data": {
      "text/plain": [
       "0     Ali\n",
       "1    John\n",
       "2     Bob\n",
       "3     Max\n",
       "4     Jak\n",
       "5    Alex\n",
       "dtype: object"
      ]
     },
     "execution_count": 3,
     "metadata": {},
     "output_type": "execute_result"
    }
   ],
   "source": [
    "# creating a pandas series using list of strings\n",
    "\n",
    "names = ['Ali', 'John', 'Bob', 'Max', 'Jak', 'Alex']\n",
    "print(names)\n",
    "pd.Series(names)"
   ]
  },
  {
   "cell_type": "code",
   "execution_count": 126,
   "metadata": {},
   "outputs": [
    {
     "data": {
      "text/plain": [
       "0     700\n",
       "1     650\n",
       "2    1000\n",
       "3    1200\n",
       "4     300\n",
       "5     500\n",
       "dtype: int64"
      ]
     },
     "execution_count": 126,
     "metadata": {},
     "output_type": "execute_result"
    }
   ],
   "source": [
    "salary = [700, 650, 1000, 1200, 300, 500]\n",
    "pd.Series(salary)"
   ]
  },
  {
   "cell_type": "code",
   "execution_count": 5,
   "metadata": {},
   "outputs": [
    {
     "data": {
      "text/plain": [
       "Ali      700\n",
       "John     650\n",
       "Bob     1000\n",
       "Max     1200\n",
       "Jak      300\n",
       "Alex     500\n",
       "Name: Salary of all Employes, dtype: int64"
      ]
     },
     "execution_count": 5,
     "metadata": {},
     "output_type": "execute_result"
    }
   ],
   "source": [
    "# Custom indices\n",
    "salary = [700, 650, 1000, 1200, 300, 500]\n",
    "names = ['Ali', 'John', 'Bob', 'Max', 'Jak', 'Alex']\n",
    "\n",
    "emp_salary = pd.Series(salary, index = names, name = 'Salary of all Employes')\n",
    "emp_salary"
   ]
  },
  {
   "cell_type": "markdown",
   "id": "9978445c",
   "metadata": {},
   "source": [
    "#### `Series from dict`"
   ]
  },
  {
   "cell_type": "code",
   "execution_count": 129,
   "metadata": {},
   "outputs": [
    {
     "data": {
      "text/plain": [
       "{'Alex': 2300, 'Ben': 2000, 'Charlie': 1200, 'David': 1500, 'John': 3000}"
      ]
     },
     "execution_count": 129,
     "metadata": {},
     "output_type": "execute_result"
    }
   ],
   "source": [
    "salary = {\n",
    "    'Alex' : 2300,\n",
    "    'Ben' : 2000,\n",
    "    'Charlie' : 1200,\n",
    "    'David' : 1500,\n",
    "    'John' : 3000\n",
    "}\n",
    "salary"
   ]
  },
  {
   "cell_type": "code",
   "execution_count": 130,
   "metadata": {},
   "outputs": [
    {
     "data": {
      "text/plain": [
       "Alex       2300\n",
       "Ben        2000\n",
       "Charlie    1200\n",
       "David      1500\n",
       "John       3000\n",
       "Name: Employee Salaries, dtype: int64"
      ]
     },
     "execution_count": 130,
     "metadata": {},
     "output_type": "execute_result"
    }
   ],
   "source": [
    "salary_series = pd.Series(salary, name = \"Employee Salaries\")\n",
    "salary_series"
   ]
  },
  {
   "cell_type": "markdown",
   "id": "51456dfe",
   "metadata": {},
   "source": [
    "#### `Series Attributes`"
   ]
  },
  {
   "cell_type": "code",
   "execution_count": 15,
   "metadata": {},
   "outputs": [
    {
     "data": {
      "text/plain": [
       "Alex       2300\n",
       "Ben        2000\n",
       "Charlie    1200\n",
       "David      1500\n",
       "John       3000\n",
       "Name: Employee Salaries, dtype: int64"
      ]
     },
     "execution_count": 15,
     "metadata": {},
     "output_type": "execute_result"
    }
   ],
   "source": [
    "salary_series"
   ]
  },
  {
   "cell_type": "code",
   "execution_count": 16,
   "metadata": {},
   "outputs": [
    {
     "data": {
      "text/plain": [
       "5"
      ]
     },
     "execution_count": 16,
     "metadata": {},
     "output_type": "execute_result"
    }
   ],
   "source": [
    "#size (no: of items)\n",
    "salary_series.size\n"
   ]
  },
  {
   "cell_type": "code",
   "execution_count": null,
   "id": "6de0768a",
   "metadata": {},
   "outputs": [
    {
     "data": {
      "text/plain": [
       "dtype('int64')"
      ]
     },
     "execution_count": 17,
     "metadata": {},
     "output_type": "execute_result"
    }
   ],
   "source": [
    "# dtype\n",
    "salary_series.dtype"
   ]
  },
  {
   "cell_type": "code",
   "execution_count": null,
   "id": "d2062961",
   "metadata": {},
   "outputs": [
    {
     "data": {
      "text/plain": [
       "'Employee Salaries'"
      ]
     },
     "execution_count": 18,
     "metadata": {},
     "output_type": "execute_result"
    }
   ],
   "source": [
    "# name\n",
    "salary_series.name"
   ]
  },
  {
   "cell_type": "code",
   "execution_count": null,
   "id": "9a4f4404",
   "metadata": {},
   "outputs": [
    {
     "name": "stdout",
     "output_type": "stream",
     "text": [
      "True\n",
      "False\n"
     ]
    }
   ],
   "source": [
    "# is_unique\n",
    "print(salary_series.is_unique)\n",
    "print(pd.Series([10,20,30,40,20,50,30]).is_unique)"
   ]
  },
  {
   "cell_type": "code",
   "execution_count": null,
   "id": "60b4d612",
   "metadata": {},
   "outputs": [
    {
     "data": {
      "text/plain": [
       "Index(['Alex', 'Ben', 'Charlie', 'David', 'John'], dtype='object')"
      ]
     },
     "execution_count": 22,
     "metadata": {},
     "output_type": "execute_result"
    }
   ],
   "source": [
    "# index\n",
    "salary_series.index"
   ]
  },
  {
   "cell_type": "code",
   "execution_count": 30,
   "id": "1505e65d",
   "metadata": {},
   "outputs": [
    {
     "data": {
      "text/plain": [
       "RangeIndex(start=0, stop=6, step=1)"
      ]
     },
     "execution_count": 30,
     "metadata": {},
     "output_type": "execute_result"
    }
   ],
   "source": [
    "names = ['Ali', 'John', 'Bob', 'Max', 'Jak', 'Alex']\n",
    "names = pd.Series(names)\n",
    "names.index"
   ]
  },
  {
   "cell_type": "code",
   "execution_count": 33,
   "id": "da68e485",
   "metadata": {},
   "outputs": [
    {
     "data": {
      "text/plain": [
       "array([2300, 2000, 1200, 1500, 3000], dtype=int64)"
      ]
     },
     "execution_count": 33,
     "metadata": {},
     "output_type": "execute_result"
    }
   ],
   "source": [
    "# Values\n",
    "salary_series.values"
   ]
  },
  {
   "cell_type": "markdown",
   "id": "97c58bfa",
   "metadata": {},
   "source": [
    "#### `Series Using read_csv`"
   ]
  },
  {
   "cell_type": "code",
   "execution_count": 3,
   "id": "3c301727",
   "metadata": {},
   "outputs": [
    {
     "data": {
      "text/plain": [
       "pandas.core.frame.DataFrame"
      ]
     },
     "execution_count": 3,
     "metadata": {},
     "output_type": "execute_result"
    }
   ],
   "source": [
    "# one column\n",
    "subs = pd.read_csv('data\\\\subs.csv')\n",
    "type(subs)"
   ]
  },
  {
   "cell_type": "code",
   "execution_count": null,
   "metadata": {},
   "outputs": [
    {
     "data": {
      "text/plain": [
       "pandas.core.series.Series"
      ]
     },
     "execution_count": 4,
     "metadata": {},
     "output_type": "execute_result"
    }
   ],
   "source": [
    "subs = subs.squeeze()\n",
    "type(subs)"
   ]
  },
  {
   "cell_type": "code",
   "execution_count": 22,
   "id": "572eb3eb",
   "metadata": {},
   "outputs": [],
   "source": [
    "runs = pd.read_csv('data\\\\kohli_ipl.csv', index_col = 'match_no')"
   ]
  },
  {
   "cell_type": "code",
   "execution_count": 24,
   "id": "ad8f8554",
   "metadata": {},
   "outputs": [
    {
     "data": {
      "text/plain": [
       "match_no\n",
       "1       1\n",
       "2      23\n",
       "3      13\n",
       "4      12\n",
       "5       1\n",
       "       ..\n",
       "211     0\n",
       "212    20\n",
       "213    73\n",
       "214    25\n",
       "215     7\n",
       "Name: runs, Length: 215, dtype: int64"
      ]
     },
     "execution_count": 24,
     "metadata": {},
     "output_type": "execute_result"
    }
   ],
   "source": [
    "runs = runs.squeeze()\n",
    "runs"
   ]
  },
  {
   "cell_type": "code",
   "execution_count": 12,
   "id": "22485710",
   "metadata": {},
   "outputs": [
    {
     "data": {
      "text/plain": [
       "movie\n",
       "Uri: The Surgical Strike                   Vicky Kaushal\n",
       "Battalion 609                                Vicky Ahuja\n",
       "The Accidental Prime Minister (film)         Anupam Kher\n",
       "Why Cheat India                            Emraan Hashmi\n",
       "Evening Shadows                         Mona Ambegaonkar\n",
       "                                              ...       \n",
       "Hum Tumhare Hain Sanam                    Shah Rukh Khan\n",
       "Aankhen (2002 film)                     Amitabh Bachchan\n",
       "Saathiya (film)                             Vivek Oberoi\n",
       "Company (film)                                Ajay Devgn\n",
       "Awara Paagal Deewana                        Akshay Kumar\n",
       "Name: lead, Length: 1500, dtype: object"
      ]
     },
     "execution_count": 12,
     "metadata": {},
     "output_type": "execute_result"
    }
   ],
   "source": [
    "movies = pd.read_csv('data\\\\bollywood.csv', index_col = 'movie').squeeze()\n",
    "movies"
   ]
  },
  {
   "cell_type": "markdown",
   "id": "e26439ec",
   "metadata": {},
   "source": [
    "#### `Series Methods`"
   ]
  },
  {
   "cell_type": "code",
   "execution_count": null,
   "id": "5f3758f6",
   "metadata": {},
   "outputs": [
    {
     "data": {
      "text/plain": [
       "0    48\n",
       "1    57\n",
       "2    40\n",
       "3    43\n",
       "4    44\n",
       "Name: Subscribers gained, dtype: int64"
      ]
     },
     "execution_count": 5,
     "metadata": {},
     "output_type": "execute_result"
    }
   ],
   "source": [
    "# head & tail\n",
    "# first 5 items\n",
    "subs.head() #type: ignore"
   ]
  },
  {
   "cell_type": "code",
   "execution_count": null,
   "id": "0277cb32",
   "metadata": {},
   "outputs": [
    {
     "data": {
      "text/plain": [
       "0    48\n",
       "1    57\n",
       "2    40\n",
       "3    43\n",
       "4    44\n",
       "5    46\n",
       "6    33\n",
       "7    40\n",
       "8    44\n",
       "9    74\n",
       "Name: Subscribers gained, dtype: int64"
      ]
     },
     "execution_count": 15,
     "metadata": {},
     "output_type": "execute_result"
    }
   ],
   "source": [
    "subs.head(10) # type: ignore"
   ]
  },
  {
   "cell_type": "code",
   "execution_count": null,
   "id": "7ef6fbf1",
   "metadata": {},
   "outputs": [
    {
     "data": {
      "text/plain": [
       "360    231\n",
       "361    226\n",
       "362    155\n",
       "363    144\n",
       "364    172\n",
       "Name: Subscribers gained, dtype: int64"
      ]
     },
     "execution_count": 6,
     "metadata": {},
     "output_type": "execute_result"
    }
   ],
   "source": [
    "# last 5 items\n",
    "subs.tail() #type:ignore"
   ]
  },
  {
   "cell_type": "code",
   "execution_count": 16,
   "id": "2c8ce3a9",
   "metadata": {},
   "outputs": [
    {
     "data": {
      "text/plain": [
       "355    149\n",
       "356    156\n",
       "357    177\n",
       "358    210\n",
       "359    209\n",
       "360    231\n",
       "361    226\n",
       "362    155\n",
       "363    144\n",
       "364    172\n",
       "Name: Subscribers gained, dtype: int64"
      ]
     },
     "execution_count": 16,
     "metadata": {},
     "output_type": "execute_result"
    }
   ],
   "source": [
    "subs.tail(10) #type:ignore"
   ]
  },
  {
   "cell_type": "code",
   "execution_count": null,
   "id": "5129d178",
   "metadata": {},
   "outputs": [
    {
     "data": {
      "text/plain": [
       "movie\n",
       "Rough Book    Tannishtha Chatterjee\n",
       "Name: lead, dtype: object"
      ]
     },
     "execution_count": 11,
     "metadata": {},
     "output_type": "execute_result"
    }
   ],
   "source": [
    "#sample\n",
    "movies.sample() #type: ignore"
   ]
  },
  {
   "cell_type": "code",
   "execution_count": 17,
   "id": "bd4c0541",
   "metadata": {},
   "outputs": [
    {
     "data": {
      "text/plain": [
       "movie\n",
       "Maan Gaye Mughal-e-Azam      Mallika Sherawat\n",
       "Phata Poster Nikhla Hero        Shahid Kapoor\n",
       "Kaalo                       Aditya Srivastava\n",
       "The Last Lear                Amitabh Bachchan\n",
       "Band Baaja Baaraat              Ranveer Singh\n",
       "Chillar Party                    Aarav Khanna\n",
       "Udta Punjab                     Shahid Kapoor\n",
       "Waarrior Savitri             Niharica Raizada\n",
       "Ek Se Bure Do                           Anita\n",
       "Pihu                              Rahul Bagga\n",
       "Name: lead, dtype: object"
      ]
     },
     "execution_count": 17,
     "metadata": {},
     "output_type": "execute_result"
    }
   ],
   "source": [
    "movies.sample(10) #type: ignore"
   ]
  },
  {
   "cell_type": "code",
   "execution_count": 20,
   "id": "a9be347f",
   "metadata": {},
   "outputs": [
    {
     "data": {
      "text/plain": [
       "lead\n",
       "Akshay Kumar        48\n",
       "Amitabh Bachchan    45\n",
       "Ajay Devgn          38\n",
       "Salman Khan         31\n",
       "Sanjay Dutt         26\n",
       "                    ..\n",
       "Diganth              1\n",
       "Parveen Kaur         1\n",
       "Seema Azmi           1\n",
       "Akanksha Puri        1\n",
       "Edwin Fernandes      1\n",
       "Name: count, Length: 566, dtype: int64"
      ]
     },
     "execution_count": 20,
     "metadata": {},
     "output_type": "execute_result"
    }
   ],
   "source": [
    "# value_counts (finds out how many times a value occured in the data)\n",
    "movies.value_counts()"
   ]
  },
  {
   "cell_type": "code",
   "execution_count": null,
   "id": "adabebcb",
   "metadata": {},
   "outputs": [
    {
     "data": {
      "text/plain": [
       "match_no\n",
       "87       0\n",
       "211      0\n",
       "207      0\n",
       "206      0\n",
       "91       0\n",
       "      ... \n",
       "164    100\n",
       "120    100\n",
       "123    108\n",
       "126    109\n",
       "128    113\n",
       "Name: runs, Length: 215, dtype: int64"
      ]
     },
     "execution_count": 29,
     "metadata": {},
     "output_type": "execute_result"
    }
   ],
   "source": [
    "# sort_values --> tamporary changes (inplace = False)\n",
    "runs.sort_values()"
   ]
  },
  {
   "cell_type": "code",
   "execution_count": 31,
   "id": "4d44b126",
   "metadata": {},
   "outputs": [
    {
     "data": {
      "text/plain": [
       "113"
      ]
     },
     "execution_count": 31,
     "metadata": {},
     "output_type": "execute_result"
    }
   ],
   "source": [
    "#method chaining\n",
    "runs.sort_values(ascending = False).head(1).values[0] # gives the highest run value"
   ]
  },
  {
   "cell_type": "code",
   "execution_count": 32,
   "id": "edecd206",
   "metadata": {},
   "outputs": [
    {
     "data": {
      "text/plain": [
       "match_no\n",
       "1       1\n",
       "2      23\n",
       "3      13\n",
       "4      12\n",
       "5       1\n",
       "       ..\n",
       "211     0\n",
       "212    20\n",
       "213    73\n",
       "214    25\n",
       "215     7\n",
       "Name: runs, Length: 215, dtype: int64"
      ]
     },
     "execution_count": 32,
     "metadata": {},
     "output_type": "execute_result"
    }
   ],
   "source": [
    "runs"
   ]
  },
  {
   "cell_type": "code",
   "execution_count": 34,
   "id": "46dc6c3f",
   "metadata": {},
   "outputs": [],
   "source": [
    "runs = runs.copy()"
   ]
  },
  {
   "cell_type": "code",
   "execution_count": null,
   "id": "2ededdce",
   "metadata": {},
   "outputs": [],
   "source": [
    "runs.sort_values(inplace = True) #permanant changes"
   ]
  },
  {
   "cell_type": "code",
   "execution_count": 37,
   "id": "f7f8dfce",
   "metadata": {},
   "outputs": [
    {
     "data": {
      "text/plain": [
       "match_no\n",
       "87       0\n",
       "211      0\n",
       "207      0\n",
       "206      0\n",
       "91       0\n",
       "      ... \n",
       "164    100\n",
       "120    100\n",
       "123    108\n",
       "126    109\n",
       "128    113\n",
       "Name: runs, Length: 215, dtype: int64"
      ]
     },
     "execution_count": 37,
     "metadata": {},
     "output_type": "execute_result"
    }
   ],
   "source": [
    "runs"
   ]
  },
  {
   "cell_type": "code",
   "execution_count": 38,
   "id": "53feac04",
   "metadata": {},
   "outputs": [
    {
     "data": {
      "text/plain": [
       "movie\n",
       "Uri: The Surgical Strike                   Vicky Kaushal\n",
       "Battalion 609                                Vicky Ahuja\n",
       "The Accidental Prime Minister (film)         Anupam Kher\n",
       "Why Cheat India                            Emraan Hashmi\n",
       "Evening Shadows                         Mona Ambegaonkar\n",
       "                                              ...       \n",
       "Hum Tumhare Hain Sanam                    Shah Rukh Khan\n",
       "Aankhen (2002 film)                     Amitabh Bachchan\n",
       "Saathiya (film)                             Vivek Oberoi\n",
       "Company (film)                                Ajay Devgn\n",
       "Awara Paagal Deewana                        Akshay Kumar\n",
       "Name: lead, Length: 1500, dtype: object"
      ]
     },
     "execution_count": 38,
     "metadata": {},
     "output_type": "execute_result"
    }
   ],
   "source": [
    "movies"
   ]
  },
  {
   "cell_type": "code",
   "execution_count": null,
   "id": "b948ac2f",
   "metadata": {},
   "outputs": [
    {
     "data": {
      "text/plain": [
       "movie\n",
       "1920 (film)                   Rajniesh Duggall\n",
       "1920: London                     Sharman Joshi\n",
       "1920: The Evil Returns             Vicky Ahuja\n",
       "1971 (2007 film)                Manoj Bajpayee\n",
       "2 States (2014 film)              Arjun Kapoor\n",
       "                                   ...        \n",
       "Zindagi 50-50                      Veena Malik\n",
       "Zindagi Na Milegi Dobara        Hrithik Roshan\n",
       "Zindagi Tere Naam           Mithun Chakraborty\n",
       "Zokkomon                       Darsheel Safary\n",
       "Zor Lagaa Ke...Haiya!            Meghan Jadhav\n",
       "Name: lead, Length: 1500, dtype: object"
      ]
     },
     "execution_count": 39,
     "metadata": {},
     "output_type": "execute_result"
    }
   ],
   "source": [
    "# sort_index\n",
    "movies.sort_index()"
   ]
  },
  {
   "cell_type": "markdown",
   "id": "1a1f54e1",
   "metadata": {},
   "source": [
    "#### `Series Maths Methods`"
   ]
  },
  {
   "cell_type": "code",
   "execution_count": 43,
   "id": "aca834dc",
   "metadata": {},
   "outputs": [
    {
     "data": {
      "text/plain": [
       "215"
      ]
     },
     "execution_count": 43,
     "metadata": {},
     "output_type": "execute_result"
    }
   ],
   "source": [
    "# count (counts all the Not-Null values)\n",
    "runs.count()"
   ]
  },
  {
   "cell_type": "code",
   "execution_count": 45,
   "id": "9c85ac78",
   "metadata": {},
   "outputs": [
    {
     "name": "stdout",
     "output_type": "stream",
     "text": [
      "49510\n",
      "0\n"
     ]
    }
   ],
   "source": [
    "# sum (sum of all the elements)\n",
    "# product (product of all the elements)\n",
    "print(subs.sum())\n",
    "print(subs.product())"
   ]
  },
  {
   "cell_type": "code",
   "execution_count": 56,
   "id": "a2d0e050",
   "metadata": {},
   "outputs": [
    {
     "name": "stdout",
     "output_type": "stream",
     "text": [
      "135.64383561643837\n",
      "123.0\n",
      "0    Akshay Kumar\n",
      "Name: lead, dtype: object\n",
      "62.67502303725269\n",
      "3928.1585127201556\n"
     ]
    }
   ],
   "source": [
    "# mean --> median --> mode --> std --> var\n",
    "\n",
    "print(subs.mean())\n",
    "print(subs.median())\n",
    "print(movies.mode()) # most frequent item\n",
    "print(subs.std())\n",
    "print(subs.var())"
   ]
  },
  {
   "cell_type": "code",
   "execution_count": 58,
   "id": "2d0c03b6",
   "metadata": {},
   "outputs": [
    {
     "name": "stdout",
     "output_type": "stream",
     "text": [
      "33\n",
      "396\n"
     ]
    }
   ],
   "source": [
    "# min/max\n",
    "print(subs.min())\n",
    "print(subs.max())"
   ]
  },
  {
   "cell_type": "code",
   "execution_count": 69,
   "id": "bae2335f",
   "metadata": {},
   "outputs": [
    {
     "data": {
      "text/plain": [
       "count    215.000000\n",
       "mean      30.855814\n",
       "std       26.229801\n",
       "min        0.000000\n",
       "25%        9.000000\n",
       "50%       24.000000\n",
       "75%       48.000000\n",
       "max      113.000000\n",
       "Name: runs, dtype: float64"
      ]
     },
     "execution_count": 69,
     "metadata": {},
     "output_type": "execute_result"
    }
   ],
   "source": [
    "runs.describe()"
   ]
  },
  {
   "cell_type": "markdown",
   "id": "5e91210d",
   "metadata": {},
   "source": [
    "#### `Series Indexing & Slicing`"
   ]
  },
  {
   "cell_type": "code",
   "execution_count": 93,
   "id": "f927ab1f",
   "metadata": {},
   "outputs": [
    {
     "data": {
      "text/plain": [
       "movie\n",
       "Uri: The Surgical Strike                   Vicky Kaushal\n",
       "Battalion 609                                Vicky Ahuja\n",
       "The Accidental Prime Minister (film)         Anupam Kher\n",
       "Why Cheat India                            Emraan Hashmi\n",
       "Evening Shadows                         Mona Ambegaonkar\n",
       "                                              ...       \n",
       "Hum Tumhare Hain Sanam                    Shah Rukh Khan\n",
       "Aankhen (2002 film)                     Amitabh Bachchan\n",
       "Saathiya (film)                             Vivek Oberoi\n",
       "Company (film)                                Ajay Devgn\n",
       "Awara Paagal Deewana                        Akshay Kumar\n",
       "Name: lead, Length: 1500, dtype: object"
      ]
     },
     "execution_count": 93,
     "metadata": {},
     "output_type": "execute_result"
    }
   ],
   "source": [
    "movies"
   ]
  },
  {
   "cell_type": "code",
   "execution_count": null,
   "id": "d7deba03",
   "metadata": {},
   "outputs": [
    {
     "data": {
      "text/plain": [
       "'Rajniesh Duggall'"
      ]
     },
     "execution_count": 80,
     "metadata": {},
     "output_type": "execute_result"
    }
   ],
   "source": [
    "# label based (not Index)\n",
    "movies['1920 (film)'] "
   ]
  },
  {
   "cell_type": "code",
   "execution_count": null,
   "id": "eacc2439",
   "metadata": {},
   "outputs": [
    {
     "data": {
      "text/plain": [
       "movie\n",
       "1920 (film)     Rajniesh Duggall\n",
       "1920: London       Sharman Joshi\n",
       "Name: lead, dtype: object"
      ]
     },
     "execution_count": 79,
     "metadata": {},
     "output_type": "execute_result"
    }
   ],
   "source": [
    "# can take a list of labels\n",
    "movies[['1920 (film)', '1920: London']]"
   ]
  },
  {
   "cell_type": "code",
   "execution_count": null,
   "id": "16849296",
   "metadata": {},
   "outputs": [
    {
     "data": {
      "text/plain": [
       "'Darsheel Safary'"
      ]
     },
     "execution_count": 82,
     "metadata": {},
     "output_type": "execute_result"
    }
   ],
   "source": [
    "# .loc[] (strictly label based)\n",
    "movies.loc['Zokkomon'] "
   ]
  },
  {
   "cell_type": "code",
   "execution_count": 95,
   "id": "7cff880f",
   "metadata": {},
   "outputs": [
    {
     "data": {
      "text/plain": [
       "movie\n",
       "Zokkomon         Darsheel Safary\n",
       "Zindagi 50-50        Veena Malik\n",
       "Battalion 609        Vicky Ahuja\n",
       "Name: lead, dtype: object"
      ]
     },
     "execution_count": 95,
     "metadata": {},
     "output_type": "execute_result"
    }
   ],
   "source": [
    "# can take a list of labels\n",
    "movies.loc[['Zokkomon', 'Zindagi 50-50', 'Battalion 609']] "
   ]
  },
  {
   "cell_type": "code",
   "execution_count": null,
   "id": "33df2a66",
   "metadata": {},
   "outputs": [
    {
     "data": {
      "text/plain": [
       "168    306\n",
       "233    301\n",
       "330    396\n",
       "331    312\n",
       "Name: Subscribers gained, dtype: int64"
      ]
     },
     "execution_count": 90,
     "metadata": {},
     "output_type": "execute_result"
    }
   ],
   "source": [
    "# support boolean masks\n",
    "subs.loc[subs > 300]"
   ]
  },
  {
   "cell_type": "code",
   "execution_count": 108,
   "id": "70b01467",
   "metadata": {},
   "outputs": [
    {
     "data": {
      "text/plain": [
       "match_no\n",
       "1       1\n",
       "3      13\n",
       "5       1\n",
       "7      34\n",
       "9      21\n",
       "       ..\n",
       "207     0\n",
       "209    58\n",
       "211     0\n",
       "213    73\n",
       "215     7\n",
       "Name: runs, Length: 108, dtype: int64"
      ]
     },
     "execution_count": 108,
     "metadata": {},
     "output_type": "execute_result"
    }
   ],
   "source": [
    "# slicing using .loc[]\n",
    "runs.loc[::2]"
   ]
  },
  {
   "cell_type": "code",
   "execution_count": 109,
   "id": "6f4f5d4c",
   "metadata": {},
   "outputs": [
    {
     "data": {
      "text/plain": [
       "match_no\n",
       "200    41\n",
       "201    12\n",
       "202     5\n",
       "203    48\n",
       "204     1\n",
       "205    12\n",
       "Name: runs, dtype: int64"
      ]
     },
     "execution_count": 109,
     "metadata": {},
     "output_type": "execute_result"
    }
   ],
   "source": [
    "runs.loc[200:205]"
   ]
  },
  {
   "cell_type": "code",
   "execution_count": 110,
   "id": "6878c6c5",
   "metadata": {},
   "outputs": [
    {
     "data": {
      "text/plain": [
       "'Geetika Vidya Ohlyan'"
      ]
     },
     "execution_count": 110,
     "metadata": {},
     "output_type": "execute_result"
    }
   ],
   "source": [
    "# .iloc[] (position based indexing)\n",
    "# single integer\n",
    "\n",
    "movies.iloc[5]\n"
   ]
  },
  {
   "cell_type": "code",
   "execution_count": 113,
   "id": "07666d98",
   "metadata": {},
   "outputs": [
    {
     "data": {
      "text/plain": [
       "movie\n",
       "Notebook (2019 film)        Zaheer Iqbal\n",
       "Chicken Curry Law       Natalia Janoszek\n",
       "Jhalki                       Boman Irani\n",
       "October (2018 film)         Varun Dhawan\n",
       "Name: lead, dtype: object"
      ]
     },
     "execution_count": 113,
     "metadata": {},
     "output_type": "execute_result"
    }
   ],
   "source": [
    "#list of positions\n",
    "movies.iloc[[23,45,67,100]]"
   ]
  },
  {
   "cell_type": "code",
   "execution_count": 114,
   "id": "a4a11ffe",
   "metadata": {},
   "outputs": [
    {
     "data": {
      "text/plain": [
       "movie\n",
       "Student of the Year 2          Tiger Shroff\n",
       "PM Narendra Modi                Boman Irani\n",
       "De De Pyaar De                   Ajay Devgn\n",
       "India's Most Wanted (film)     Arjun Kapoor\n",
       "Yeh Hai India                  Gavie Chahal\n",
       "Khamoshi (2019 film)            Prabhu Deva\n",
       "Kabir Singh                   Shahid Kapoor\n",
       "Name: lead, dtype: object"
      ]
     },
     "execution_count": 114,
     "metadata": {},
     "output_type": "execute_result"
    }
   ],
   "source": [
    "# positional slicing\n",
    "movies.iloc[30:37]"
   ]
  },
  {
   "cell_type": "code",
   "execution_count": 119,
   "id": "97d9037e",
   "metadata": {},
   "outputs": [
    {
     "data": {
      "text/plain": [
       "movie\n",
       "Uri: The Surgical Strike    Vicky Kaushal\n",
       "Love per Square Foot        Vicky Kaushal\n",
       "Name: lead, dtype: object"
      ]
     },
     "execution_count": 119,
     "metadata": {},
     "output_type": "execute_result"
    }
   ],
   "source": [
    "# boolean masks\n",
    "movies.iloc[movies.values == 'Vicky Kaushal'] "
   ]
  },
  {
   "cell_type": "code",
   "execution_count": 120,
   "id": "e1b4593c",
   "metadata": {},
   "outputs": [
    {
     "data": {
      "text/plain": [
       "'Vicky Kaushal'"
      ]
     },
     "execution_count": 120,
     "metadata": {},
     "output_type": "execute_result"
    }
   ],
   "source": [
    "# .at[]\n",
    "# fatest accessor for single item lookup with label\n",
    "movies.at[\"Love per Square Foot\"]"
   ]
  },
  {
   "cell_type": "code",
   "execution_count": 121,
   "id": "b60190cd",
   "metadata": {},
   "outputs": [
    {
     "data": {
      "text/plain": [
       "'Emraan Hashmi'"
      ]
     },
     "execution_count": 121,
     "metadata": {},
     "output_type": "execute_result"
    }
   ],
   "source": [
    "# .iat[]\n",
    "# # fatest accessor for single item lookup with position\n",
    "movies.iat[3]\n"
   ]
  },
  {
   "cell_type": "code",
   "execution_count": 155,
   "id": "1c2de628",
   "metadata": {},
   "outputs": [
    {
     "data": {
      "text/plain": [
       "lead\n",
       "Akshay Kumar        48\n",
       "Amitabh Bachchan    45\n",
       "Ajay Devgn          38\n",
       "Salman Khan         31\n",
       "Sanjay Dutt         26\n",
       "Shah Rukh Khan      22\n",
       "Emraan Hashmi       21\n",
       "Name: count, dtype: int64"
      ]
     },
     "execution_count": 155,
     "metadata": {},
     "output_type": "execute_result"
    }
   ],
   "source": [
    "#find the actors from the movies series who have done more than 20 movies\n",
    "movies_count = movies.value_counts()\n",
    "movies_count[movies_count>20]"
   ]
  },
  {
   "cell_type": "markdown",
   "id": "01209d52",
   "metadata": {},
   "source": [
    "#### `Series with Python Functionalities`"
   ]
  },
  {
   "cell_type": "code",
   "execution_count": 123,
   "id": "414f8ead",
   "metadata": {},
   "outputs": [
    {
     "name": "stdout",
     "output_type": "stream",
     "text": [
      "365\n",
      "\n",
      "['T', '_AXIS_LEN', '_AXIS_ORDERS', '_AXIS_TO_AXIS_NUMBER', '_HANDLED_TYPES', '__abs__', '__add__', '__and__', '__annotations__', '__array__', '__array_priority__', '__array_ufunc__', '__bool__', '__class__', '__column_consortium_standard__', '__contains__', '__copy__', '__deepcopy__', '__delattr__', '__delitem__', '__dict__', '__dir__', '__divmod__', '__doc__', '__eq__', '__finalize__', '__float__', '__floordiv__', '__format__', '__ge__', '__getattr__', '__getattribute__', '__getitem__', '__getstate__', '__gt__', '__hash__', '__iadd__', '__iand__', '__ifloordiv__', '__imod__', '__imul__', '__init__', '__init_subclass__', '__int__', '__invert__', '__ior__', '__ipow__', '__isub__', '__iter__', '__itruediv__', '__ixor__', '__le__', '__len__', '__lt__', '__matmul__', '__mod__', '__module__', '__mul__', '__ne__', '__neg__', '__new__', '__nonzero__', '__or__', '__pandas_priority__', '__pos__', '__pow__', '__radd__', '__rand__', '__rdivmod__', '__reduce__', '__reduce_ex__', '__repr__', '__rfloordiv__', '__rmatmul__', '__rmod__', '__rmul__', '__ror__', '__round__', '__rpow__', '__rsub__', '__rtruediv__', '__rxor__', '__setattr__', '__setitem__', '__setstate__', '__sizeof__', '__str__', '__sub__', '__subclasshook__', '__truediv__', '__weakref__', '__xor__', '_accessors', '_accum_func', '_agg_examples_doc', '_agg_see_also_doc', '_align_for_op', '_align_frame', '_align_series', '_append', '_arith_method', '_as_manager', '_attrs', '_binop', '_cacher', '_can_hold_na', '_check_inplace_and_allows_duplicate_labels', '_check_is_chained_assignment_possible', '_check_label_or_level_ambiguity', '_check_setitem_copy', '_clear_item_cache', '_clip_with_one_bound', '_clip_with_scalar', '_cmp_method', '_consolidate', '_consolidate_inplace', '_construct_axes_dict', '_construct_result', '_constructor', '_constructor_expanddim', '_constructor_expanddim_from_mgr', '_constructor_from_mgr', '_data', '_deprecate_downcast', '_dir_additions', '_dir_deletions', '_drop_axis', '_drop_labels_or_levels', '_duplicated', '_find_valid_index', '_flags', '_flex_method', '_from_mgr', '_get_axis', '_get_axis_name', '_get_axis_number', '_get_axis_resolvers', '_get_block_manager_axis', '_get_bool_data', '_get_cacher', '_get_cleaned_column_resolvers', '_get_index_resolvers', '_get_label_or_level_values', '_get_numeric_data', '_get_rows_with_mask', '_get_value', '_get_values_tuple', '_get_with', '_getitem_slice', '_gotitem', '_hidden_attrs', '_indexed_same', '_info_axis', '_info_axis_name', '_info_axis_number', '_init_dict', '_init_mgr', '_inplace_method', '_internal_names', '_internal_names_set', '_is_cached', '_is_copy', '_is_label_or_level_reference', '_is_label_reference', '_is_level_reference', '_is_mixed_type', '_is_view', '_is_view_after_cow_rules', '_item_cache', '_ixs', '_logical_func', '_logical_method', '_map_values', '_maybe_update_cacher', '_memory_usage', '_metadata', '_mgr', '_min_count_stat_function', '_name', '_needs_reindex_multi', '_pad_or_backfill', '_protect_consolidate', '_reduce', '_references', '_reindex_axes', '_reindex_indexer', '_reindex_multi', '_reindex_with_indexers', '_rename', '_replace_single', '_repr_data_resource_', '_repr_latex_', '_reset_cache', '_reset_cacher', '_set_as_cached', '_set_axis', '_set_axis_name', '_set_axis_nocheck', '_set_is_copy', '_set_labels', '_set_name', '_set_value', '_set_values', '_set_with', '_set_with_engine', '_shift_with_freq', '_slice', '_stat_function', '_stat_function_ddof', '_take_with_is_copy', '_to_latex_via_styler', '_typ', '_update_inplace', '_validate_dtype', '_values', '_where', 'abs', 'add', 'add_prefix', 'add_suffix', 'agg', 'aggregate', 'align', 'all', 'any', 'apply', 'argmax', 'argmin', 'argsort', 'array', 'asfreq', 'asof', 'astype', 'at', 'at_time', 'attrs', 'autocorr', 'axes', 'backfill', 'between', 'between_time', 'bfill', 'bool', 'case_when', 'clip', 'combine', 'combine_first', 'compare', 'convert_dtypes', 'copy', 'corr', 'count', 'cov', 'cummax', 'cummin', 'cumprod', 'cumsum', 'describe', 'diff', 'div', 'divide', 'divmod', 'dot', 'drop', 'drop_duplicates', 'droplevel', 'dropna', 'dtype', 'dtypes', 'duplicated', 'empty', 'eq', 'equals', 'ewm', 'expanding', 'explode', 'factorize', 'ffill', 'fillna', 'filter', 'first', 'first_valid_index', 'flags', 'floordiv', 'ge', 'get', 'groupby', 'gt', 'hasnans', 'head', 'hist', 'iat', 'idxmax', 'idxmin', 'iloc', 'index', 'infer_objects', 'info', 'interpolate', 'is_monotonic_decreasing', 'is_monotonic_increasing', 'is_unique', 'isin', 'isna', 'isnull', 'item', 'items', 'keys', 'kurt', 'kurtosis', 'last', 'last_valid_index', 'le', 'list', 'loc', 'lt', 'map', 'mask', 'max', 'mean', 'median', 'memory_usage', 'min', 'mod', 'mode', 'mul', 'multiply', 'name', 'nbytes', 'ndim', 'ne', 'nlargest', 'notna', 'notnull', 'nsmallest', 'nunique', 'pad', 'pct_change', 'pipe', 'plot', 'pop', 'pow', 'prod', 'product', 'quantile', 'radd', 'rank', 'ravel', 'rdiv', 'rdivmod', 'reindex', 'reindex_like', 'rename', 'rename_axis', 'reorder_levels', 'repeat', 'replace', 'resample', 'reset_index', 'rfloordiv', 'rmod', 'rmul', 'rolling', 'round', 'rpow', 'rsub', 'rtruediv', 'sample', 'searchsorted', 'sem', 'set_axis', 'set_flags', 'shape', 'shift', 'size', 'skew', 'sort_index', 'sort_values', 'squeeze', 'std', 'struct', 'sub', 'subtract', 'sum', 'swapaxes', 'swaplevel', 'tail', 'take', 'to_clipboard', 'to_csv', 'to_dict', 'to_excel', 'to_frame', 'to_hdf', 'to_json', 'to_latex', 'to_list', 'to_markdown', 'to_numpy', 'to_period', 'to_pickle', 'to_sql', 'to_string', 'to_timestamp', 'to_xarray', 'transform', 'transpose', 'truediv', 'truncate', 'tz_convert', 'tz_localize', 'unique', 'unstack', 'update', 'value_counts', 'values', 'var', 'view', 'where', 'xs']\n",
      "\n",
      "[33, 33, 35, 37, 39, 40, 40, 40, 40, 42, 42, 43, 44, 44, 44, 45, 46, 46, 48, 49, 49, 49, 49, 50, 50, 50, 51, 54, 56, 56, 56, 56, 57, 61, 62, 64, 65, 65, 66, 66, 66, 66, 67, 68, 70, 70, 70, 71, 71, 72, 72, 72, 72, 72, 73, 74, 74, 75, 76, 76, 76, 76, 77, 77, 78, 78, 78, 79, 79, 80, 80, 80, 81, 81, 82, 82, 83, 83, 83, 84, 84, 84, 85, 86, 86, 86, 87, 87, 87, 87, 88, 88, 88, 88, 88, 89, 89, 89, 90, 90, 90, 90, 91, 92, 92, 92, 93, 93, 93, 93, 95, 95, 96, 96, 96, 96, 97, 97, 98, 98, 99, 99, 100, 100, 100, 101, 101, 101, 102, 102, 103, 103, 104, 104, 104, 105, 105, 105, 105, 105, 105, 105, 105, 105, 108, 108, 108, 108, 108, 108, 109, 109, 110, 110, 110, 111, 111, 112, 113, 113, 113, 114, 114, 114, 114, 115, 115, 115, 115, 117, 117, 117, 118, 118, 119, 119, 119, 119, 120, 122, 123, 123, 123, 123, 123, 124, 125, 126, 127, 128, 128, 129, 130, 131, 131, 132, 132, 134, 134, 134, 135, 135, 136, 136, 136, 137, 138, 138, 138, 139, 140, 144, 145, 146, 146, 146, 146, 147, 149, 150, 150, 150, 150, 151, 152, 152, 152, 153, 153, 153, 154, 154, 154, 155, 155, 156, 156, 156, 156, 157, 157, 157, 157, 158, 158, 159, 159, 160, 160, 160, 160, 162, 164, 166, 167, 167, 168, 170, 170, 170, 170, 171, 172, 172, 173, 173, 173, 174, 174, 175, 175, 176, 176, 177, 178, 179, 179, 180, 180, 180, 182, 183, 183, 183, 184, 184, 184, 185, 185, 185, 185, 186, 186, 186, 188, 189, 190, 190, 192, 192, 192, 196, 196, 196, 197, 197, 202, 202, 202, 203, 204, 206, 207, 209, 210, 210, 211, 212, 213, 214, 216, 219, 220, 221, 221, 222, 222, 224, 225, 225, 226, 227, 228, 229, 230, 231, 233, 236, 236, 237, 241, 243, 244, 245, 247, 249, 254, 254, 258, 259, 259, 261, 261, 265, 267, 268, 269, 276, 276, 290, 295, 301, 306, 312, 396]\n",
      "\n",
      "396\n",
      "\n",
      "33\n"
     ]
    }
   ],
   "source": [
    "#len / dir / type / sorted / max / min\n",
    "print(len(subs))\n",
    "print()\n",
    "print(dir(subs))\n",
    "print()\n",
    "print(sorted(subs))\n",
    "print()\n",
    "print(max(subs))\n",
    "print()\n",
    "print(min(subs))"
   ]
  },
  {
   "cell_type": "code",
   "execution_count": null,
   "id": "8b1ce28c",
   "metadata": {},
   "outputs": [
    {
     "data": {
      "text/plain": [
       "Alex       2300\n",
       "Ben        2000\n",
       "Charlie    1200\n",
       "David      1500\n",
       "John       3000\n",
       "Name: Employee Salaries, dtype: int64"
      ]
     },
     "execution_count": 131,
     "metadata": {},
     "output_type": "execute_result"
    }
   ],
   "source": [
    "salary_series"
   ]
  },
  {
   "cell_type": "code",
   "execution_count": 132,
   "id": "3ab4e605",
   "metadata": {},
   "outputs": [
    {
     "data": {
      "text/plain": [
       "[2300, 2000, 1200, 1500, 3000]"
      ]
     },
     "execution_count": 132,
     "metadata": {},
     "output_type": "execute_result"
    }
   ],
   "source": [
    "#type conversion\n",
    "list(salary_series)"
   ]
  },
  {
   "cell_type": "code",
   "execution_count": 133,
   "id": "8e9d8b47",
   "metadata": {},
   "outputs": [
    {
     "data": {
      "text/plain": [
       "{'Alex': 2300, 'Ben': 2000, 'Charlie': 1200, 'David': 1500, 'John': 3000}"
      ]
     },
     "execution_count": 133,
     "metadata": {},
     "output_type": "execute_result"
    }
   ],
   "source": [
    "dict(salary_series)"
   ]
  },
  {
   "cell_type": "code",
   "execution_count": 134,
   "id": "a36b9de0",
   "metadata": {},
   "outputs": [
    {
     "data": {
      "text/plain": [
       "movie\n",
       "De Dana Dan                      Akshay Kumar\n",
       "Hamari Adhuri Kahani            Rajkummar Rao\n",
       "Thoda Lutf Thoda Ishq           Bhavita Anand\n",
       "Hatya (2004 film)                Akshay Kumar\n",
       "Chalk n Duster                   Richa Chadha\n",
       "Happy New Year (2014 film)     Shah Rukh Khan\n",
       "Global Baba                   Pankaj Tripathi\n",
       "Kaalakaandi                     Saif Ali Khan\n",
       "Mantra (2016 film)               Rajat Kapoor\n",
       "Khuda Kasam                        Sunny Deol\n",
       "Name: lead, dtype: object"
      ]
     },
     "execution_count": 134,
     "metadata": {},
     "output_type": "execute_result"
    }
   ],
   "source": [
    "movies.sample(10)"
   ]
  },
  {
   "cell_type": "code",
   "execution_count": null,
   "id": "4611e385",
   "metadata": {},
   "outputs": [
    {
     "data": {
      "text/plain": [
       "True"
      ]
     },
     "execution_count": 135,
     "metadata": {},
     "output_type": "execute_result"
    }
   ],
   "source": [
    "# membership operator\n",
    "# in operator / defaultly works on indices\n",
    "'Happy New Year (2014 film)' in movies\n"
   ]
  },
  {
   "cell_type": "code",
   "execution_count": 138,
   "id": "eb723ae1",
   "metadata": {},
   "outputs": [
    {
     "data": {
      "text/plain": [
       "True"
      ]
     },
     "execution_count": 138,
     "metadata": {},
     "output_type": "execute_result"
    }
   ],
   "source": [
    "'Shah Rukh Khan' in movies.values"
   ]
  },
  {
   "cell_type": "code",
   "execution_count": 139,
   "id": "8a3db884",
   "metadata": {},
   "outputs": [
    {
     "name": "stdout",
     "output_type": "stream",
     "text": [
      "2300\n",
      "2000\n",
      "1200\n",
      "1500\n",
      "3000\n"
     ]
    }
   ],
   "source": [
    "# looping (defaultly works on values)\n",
    "for i in salary_series:\n",
    "    print(i)\n"
   ]
  },
  {
   "cell_type": "code",
   "execution_count": 140,
   "id": "7f500095",
   "metadata": {},
   "outputs": [
    {
     "name": "stdout",
     "output_type": "stream",
     "text": [
      "Alex\n",
      "Ben\n",
      "Charlie\n",
      "David\n",
      "John\n"
     ]
    }
   ],
   "source": [
    "for i in salary_series.index:\n",
    "    print(i)"
   ]
  },
  {
   "cell_type": "code",
   "execution_count": null,
   "id": "ae8b62d8",
   "metadata": {},
   "outputs": [
    {
     "data": {
      "text/plain": [
       "Alex        700\n",
       "Ben        1000\n",
       "Charlie    1800\n",
       "David      1500\n",
       "John          0\n",
       "Name: Employee Salaries, dtype: int64"
      ]
     },
     "execution_count": 141,
     "metadata": {},
     "output_type": "execute_result"
    }
   ],
   "source": [
    "# Arithematic operators\n",
    "3000 - salary_series # works with all arithematic operators"
   ]
  },
  {
   "cell_type": "code",
   "execution_count": 142,
   "id": "4b36cc25",
   "metadata": {},
   "outputs": [
    {
     "data": {
      "text/plain": [
       "Alex       5290000\n",
       "Ben        4000000\n",
       "Charlie    1440000\n",
       "David      2250000\n",
       "John       9000000\n",
       "Name: Employee Salaries, dtype: int64"
      ]
     },
     "execution_count": 142,
     "metadata": {},
     "output_type": "execute_result"
    }
   ],
   "source": [
    "salary_series**2"
   ]
  },
  {
   "cell_type": "code",
   "execution_count": 143,
   "id": "d0bcf8d7",
   "metadata": {},
   "outputs": [
    {
     "data": {
      "text/plain": [
       "Alex       4600\n",
       "Ben        4000\n",
       "Charlie    2400\n",
       "David      3000\n",
       "John       6000\n",
       "Name: Employee Salaries, dtype: int64"
      ]
     },
     "execution_count": 143,
     "metadata": {},
     "output_type": "execute_result"
    }
   ],
   "source": [
    "salary_series*2"
   ]
  },
  {
   "cell_type": "code",
   "execution_count": 146,
   "id": "0aeea6e5",
   "metadata": {},
   "outputs": [
    {
     "data": {
      "text/plain": [
       "Alex       1150.0\n",
       "Ben        1000.0\n",
       "Charlie     600.0\n",
       "David       750.0\n",
       "John       1500.0\n",
       "Name: Employee Salaries, dtype: float64"
      ]
     },
     "execution_count": 146,
     "metadata": {},
     "output_type": "execute_result"
    }
   ],
   "source": [
    "salary_series/2"
   ]
  },
  {
   "cell_type": "markdown",
   "id": "381faa6f",
   "metadata": {},
   "source": [
    "#### `Ploting Graphs`"
   ]
  },
  {
   "cell_type": "code",
   "execution_count": 156,
   "id": "27f11438",
   "metadata": {},
   "outputs": [
    {
     "data": {
      "text/plain": [
       "<Axes: >"
      ]
     },
     "execution_count": 156,
     "metadata": {},
     "output_type": "execute_result"
    },
    {
     "data": {
      "image/png": "[encoded data removed]",
      "text/plain": [
       "<Figure size 640x480 with 1 Axes>"
      ]
     },
     "metadata": {},
     "output_type": "display_data"
    }
   ],
   "source": [
    "subs.plot()"
   ]
  },
  {
   "cell_type": "code",
   "execution_count": null,
   "id": "8c77cc3c",
   "metadata": {},
   "outputs": [
    {
     "data": {
      "text/plain": [
       "<Axes: xlabel='lead'>"
      ]
     },
     "execution_count": 165,
     "metadata": {},
     "output_type": "execute_result"
    },
    {
     "data": {
      "image/png": "[encoded data removed]",
      "text/plain": [
       "<Figure size 640x480 with 1 Axes>"
      ]
     },
     "metadata": {},
     "output_type": "display_data"
    }
   ],
   "source": [
    "# kind specifies wchich graph to plot (bar = bar plot)\n",
    "movies_count.head(10).plot(kind = 'bar') # plots the top 10 actors with the most movies"
   ]
  }
 ],
 "metadata": {
  "kernelspec": {
   "display_name": "base",
   "language": "python",
   "name": "python3"
  },
  "language_info": {
   "codemirror_mode": {
    "name": "ipython",
    "version": 3
   },
   "file_extension": ".py",
   "mimetype": "text/x-python",
   "name": "python",
   "nbconvert_exporter": "python",
   "pygments_lexer": "ipython3",
   "version": "3.12.4"
  }
 },
 "nbformat": 4,
 "nbformat_minor": 5
}
