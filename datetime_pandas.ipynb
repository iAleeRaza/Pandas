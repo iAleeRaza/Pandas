{
 "cells": [
  {
   "cell_type": "code",
   "execution_count": null,
   "id": "4faec292",
   "metadata": {},
   "outputs": [],
   "source": [
    "import numpy as np\n",
    "import pandas as pd"
   ]
  },
  {
   "cell_type": "code",
   "execution_count": 3,
   "metadata": {},
   "outputs": [
    {
     "name": "stdout",
     "output_type": "stream",
     "text": [
      "2023-10-01 12:00:00\n",
      "<class 'pandas._libs.tslibs.timestamps.Timestamp'>\n"
     ]
    }
   ],
   "source": [
    "# creating a timestamp\n",
    "timestamp = pd.Timestamp('2023-10-01 12:00:00')\n",
    "print(timestamp)\n",
    "print(type(timestamp))\n"
   ]
  },
  {
   "cell_type": "code",
   "execution_count": 13,
   "metadata": {},
   "outputs": [
    {
     "name": "stdout",
     "output_type": "stream",
     "text": [
      "2025-01-01 00:00:00\n",
      "2025-10-01 00:00:00\n",
      "2025-11-21 21:21:00\n",
      "2025-12-21 00:00:00\n",
      "2025-01-01 00:00:00\n"
     ]
    }
   ],
   "source": [
    "# Flexibility in timestamp creation\n",
    "print(pd.Timestamp('2025,10,01'))\n",
    "print(pd.Timestamp('2025/10/01'))\n",
    "print(pd.Timestamp('21st Nov 2025 9:21 PM'))\n",
    "print(pd.Timestamp('21 12 2025'))\n",
    "print(pd.Timestamp('2025'))\n"
   ]
  },
  {
   "cell_type": "code",
   "execution_count": 37,
   "metadata": {},
   "outputs": [
    {
     "data": {
      "text/plain": [
       "datetime.datetime(2025, 10, 1, 12, 34, 45)"
      ]
     },
     "execution_count": 37,
     "metadata": {},
     "output_type": "execute_result"
    }
   ],
   "source": [
    "# using datetime.datetime\n",
    "import datetime as dt\n",
    "\n",
    "dt.datetime(2025, 10, 1, 12, 34, 45)"
   ]
  },
  {
   "cell_type": "code",
   "execution_count": 39,
   "id": "1e44e0b3",
   "metadata": {},
   "outputs": [
    {
     "data": {
      "text/plain": [
       "Timestamp('2025-10-01 12:34:45')"
      ]
     },
     "execution_count": 39,
     "metadata": {},
     "output_type": "execute_result"
    }
   ],
   "source": [
    "# we can use datetime.datetime to create a timestamp\n",
    "stamp = pd.Timestamp(dt.datetime(2025, 10, 1, 12, 34, 45))\n",
    "stamp"
   ]
  },
  {
   "cell_type": "code",
   "execution_count": 40,
   "id": "950551c1",
   "metadata": {},
   "outputs": [
    {
     "name": "stdout",
     "output_type": "stream",
     "text": [
      "2025\n",
      "10\n",
      "1\n",
      "12\n",
      "34\n",
      "45\n"
     ]
    }
   ],
   "source": [
    "print(stamp.year, stamp.month, stamp.day, stamp.hour, stamp.minute, stamp.second , sep = '\\n')"
   ]
  },
  {
   "cell_type": "markdown",
   "id": "5e3e70c6",
   "metadata": {},
   "source": [
    "**`Datetime index`**\n",
    "- Bunch of Timestamps"
   ]
  },
  {
   "cell_type": "code",
   "execution_count": 41,
   "id": "6cad594e",
   "metadata": {},
   "outputs": [],
   "source": [
    "dt_index = pd.DatetimeIndex(['29-10-25', '30-10-25', '31-10-25'])"
   ]
  },
  {
   "cell_type": "code",
   "execution_count": 42,
   "id": "f58488a2",
   "metadata": {},
   "outputs": [
    {
     "data": {
      "text/plain": [
       "Timestamp('2025-10-29 00:00:00')"
      ]
     },
     "execution_count": 42,
     "metadata": {},
     "output_type": "execute_result"
    }
   ],
   "source": [
    "dt_index[0]"
   ]
  },
  {
   "cell_type": "code",
   "execution_count": 43,
   "id": "b398356f",
   "metadata": {},
   "outputs": [
    {
     "data": {
      "text/plain": [
       "DatetimeIndex(['2025-10-29', '2025-10-30', '2025-10-31'], dtype='datetime64[ns]', freq=None)"
      ]
     },
     "execution_count": 43,
     "metadata": {},
     "output_type": "execute_result"
    }
   ],
   "source": [
    "# datetime index using datetime module\n",
    "pd.DatetimeIndex([dt.datetime(2025, 10, 29), dt.datetime(2025, 10, 30), dt.datetime(2025, 10, 31)])"
   ]
  },
  {
   "cell_type": "code",
   "execution_count": 44,
   "id": "e43ca196",
   "metadata": {},
   "outputs": [
    {
     "data": {
      "text/plain": [
       "DatetimeIndex(['2025-10-29', '2025-10-30', '2025-10-31'], dtype='datetime64[ns]', freq=None)"
      ]
     },
     "execution_count": 44,
     "metadata": {},
     "output_type": "execute_result"
    }
   ],
   "source": [
    "pd.DatetimeIndex([pd.Timestamp(2025, 10, 29), pd.Timestamp(2025, 10, 30), pd.Timestamp(2025, 10, 31)])"
   ]
  },
  {
   "cell_type": "code",
   "execution_count": 45,
   "id": "6a518994",
   "metadata": {},
   "outputs": [
    {
     "data": {
      "text/plain": [
       "DatetimeIndex(['2025-10-29', '2025-10-30', '2025-10-31'], dtype='datetime64[ns]', freq=None)"
      ]
     },
     "execution_count": 45,
     "metadata": {},
     "output_type": "execute_result"
    }
   ],
   "source": [
    "dt_index"
   ]
  },
  {
   "cell_type": "code",
   "execution_count": 46,
   "id": "b241d280",
   "metadata": {},
   "outputs": [
    {
     "name": "stdout",
     "output_type": "stream",
     "text": [
      "2025-10-29    1\n",
      "2025-10-30    2\n",
      "2025-10-31    3\n",
      "dtype: int64\n"
     ]
    }
   ],
   "source": [
    "# using DatetimeIndex as index in a Series/Dataframe\n",
    "s = pd.Series([1, 2, 3], index=dt_index)\n",
    "print(s)"
   ]
  },
  {
   "cell_type": "markdown",
   "id": "db6626ca",
   "metadata": {},
   "source": [
    "**`date_range function`**\n",
    "- Generates a range of timestamps based on the input parameters."
   ]
  },
  {
   "cell_type": "code",
   "execution_count": 57,
   "id": "7b6a8a4f",
   "metadata": {},
   "outputs": [
    {
     "data": {
      "text/plain": [
       "DatetimeIndex(['2025-06-01', '2025-06-02', '2025-06-03', '2025-06-04',\n",
       "               '2025-06-05', '2025-06-06', '2025-06-07', '2025-06-08',\n",
       "               '2025-06-09', '2025-06-10', '2025-06-11', '2025-06-12',\n",
       "               '2025-06-13', '2025-06-14', '2025-06-15', '2025-06-16',\n",
       "               '2025-06-17', '2025-06-18', '2025-06-19', '2025-06-20',\n",
       "               '2025-06-21', '2025-06-22', '2025-06-23', '2025-06-24',\n",
       "               '2025-06-25', '2025-06-26', '2025-06-27', '2025-06-28',\n",
       "               '2025-06-29', '2025-06-30'],\n",
       "              dtype='datetime64[ns]', freq='D')"
      ]
     },
     "execution_count": 57,
     "metadata": {},
     "output_type": "execute_result"
    }
   ],
   "source": [
    "pd.date_range(start='2025-06-01', end='2025-06-30')"
   ]
  },
  {
   "cell_type": "code",
   "execution_count": 79,
   "id": "0d563cec",
   "metadata": {},
   "outputs": [
    {
     "data": {
      "text/plain": [
       "DatetimeIndex(['2025-06-01', '2025-06-02', '2025-06-03', '2025-06-04',\n",
       "               '2025-06-05', '2025-06-06', '2025-06-07', '2025-06-08',\n",
       "               '2025-06-09', '2025-06-10', '2025-06-11', '2025-06-12',\n",
       "               '2025-06-13', '2025-06-14', '2025-06-15'],\n",
       "              dtype='datetime64[ns]', freq='D')"
      ]
     },
     "execution_count": 79,
     "metadata": {},
     "output_type": "execute_result"
    }
   ],
   "source": [
    "# periods parameter\n",
    "pd.date_range(start='2025-06-01', periods = 15)"
   ]
  },
  {
   "cell_type": "code",
   "execution_count": 80,
   "id": "38007d3f",
   "metadata": {},
   "outputs": [
    {
     "data": {
      "text/plain": [
       "DatetimeIndex(['2025-06-01', '2025-06-02', '2025-06-03', '2025-06-04',\n",
       "               '2025-06-05'],\n",
       "              dtype='datetime64[ns]', freq='D')"
      ]
     },
     "execution_count": 80,
     "metadata": {},
     "output_type": "execute_result"
    }
   ],
   "source": [
    "pd.date_range(start='2025-06-01', periods = 5)"
   ]
  },
  {
   "cell_type": "markdown",
   "id": "8ef50f3a",
   "metadata": {},
   "source": [
    "**`freq parameter`**"
   ]
  },
  {
   "cell_type": "code",
   "execution_count": 58,
   "id": "79f4a712",
   "metadata": {},
   "outputs": [
    {
     "data": {
      "text/plain": [
       "DatetimeIndex(['2025-06-01', '2025-06-03', '2025-06-05', '2025-06-07',\n",
       "               '2025-06-09', '2025-06-11', '2025-06-13', '2025-06-15',\n",
       "               '2025-06-17', '2025-06-19', '2025-06-21', '2025-06-23',\n",
       "               '2025-06-25', '2025-06-27', '2025-06-29'],\n",
       "              dtype='datetime64[ns]', freq='2D')"
      ]
     },
     "execution_count": 58,
     "metadata": {},
     "output_type": "execute_result"
    }
   ],
   "source": [
    "# frequency in date_range\n",
    "pd.date_range(start='2025-06-01', end='2025-06-30', freq='2D')"
   ]
  },
  {
   "cell_type": "code",
   "execution_count": 59,
   "id": "ade85ba7",
   "metadata": {},
   "outputs": [
    {
     "data": {
      "text/plain": [
       "DatetimeIndex(['2025-06-01', '2025-06-04', '2025-06-07', '2025-06-10',\n",
       "               '2025-06-13', '2025-06-16', '2025-06-19', '2025-06-22',\n",
       "               '2025-06-25', '2025-06-28'],\n",
       "              dtype='datetime64[ns]', freq='3D')"
      ]
     },
     "execution_count": 59,
     "metadata": {},
     "output_type": "execute_result"
    }
   ],
   "source": [
    "pd.date_range(start='2025-06-01', end='2025-06-30', freq='3D')"
   ]
  },
  {
   "cell_type": "code",
   "execution_count": 61,
   "id": "40f20a5d",
   "metadata": {},
   "outputs": [
    {
     "data": {
      "text/plain": [
       "DatetimeIndex(['2025-06-02', '2025-06-03', '2025-06-04', '2025-06-05',\n",
       "               '2025-06-06', '2025-06-09', '2025-06-10', '2025-06-11',\n",
       "               '2025-06-12', '2025-06-13', '2025-06-16', '2025-06-17',\n",
       "               '2025-06-18', '2025-06-19', '2025-06-20', '2025-06-23',\n",
       "               '2025-06-24', '2025-06-25', '2025-06-26', '2025-06-27',\n",
       "               '2025-06-30'],\n",
       "              dtype='datetime64[ns]', freq='B')"
      ]
     },
     "execution_count": 61,
     "metadata": {},
     "output_type": "execute_result"
    }
   ],
   "source": [
    "# Bussiness days frequency\n",
    "pd.date_range(start='2025-06-01', end='2025-06-30', freq='B')"
   ]
  },
  {
   "cell_type": "code",
   "execution_count": 63,
   "id": "48fa2373",
   "metadata": {},
   "outputs": [
    {
     "data": {
      "text/plain": [
       "DatetimeIndex(['2025-06-05', '2025-06-12', '2025-06-19', '2025-06-26'], dtype='datetime64[ns]', freq='W-THU')"
      ]
     },
     "execution_count": 63,
     "metadata": {},
     "output_type": "execute_result"
    }
   ],
   "source": [
    "# freq = 'W-DAY' --> grabs the specified day in each week\n",
    "pd.date_range(start='2025-06-01', end='2025-06-30', freq='W-MON')\n",
    "pd.date_range(start='2025-06-01', end='2025-06-30', freq='W-THU')"
   ]
  },
  {
   "cell_type": "code",
   "execution_count": null,
   "id": "32ca8cbd",
   "metadata": {},
   "outputs": [
    {
     "data": {
      "text/plain": [
       "DatetimeIndex(['2025-06-01 00:00:00', '2025-06-01 05:00:00',\n",
       "               '2025-06-01 10:00:00', '2025-06-01 15:00:00',\n",
       "               '2025-06-01 20:00:00', '2025-06-02 01:00:00',\n",
       "               '2025-06-02 06:00:00', '2025-06-02 11:00:00',\n",
       "               '2025-06-02 16:00:00', '2025-06-02 21:00:00',\n",
       "               '2025-06-03 02:00:00', '2025-06-03 07:00:00',\n",
       "               '2025-06-03 12:00:00', '2025-06-03 17:00:00',\n",
       "               '2025-06-03 22:00:00', '2025-06-04 03:00:00',\n",
       "               '2025-06-04 08:00:00', '2025-06-04 13:00:00',\n",
       "               '2025-06-04 18:00:00', '2025-06-04 23:00:00'],\n",
       "              dtype='datetime64[ns]', freq='5h')"
      ]
     },
     "execution_count": 72,
     "metadata": {},
     "output_type": "execute_result"
    }
   ],
   "source": [
    "# nh --> Hourly dates\n",
    "pd.date_range(start='2025-06-01', end='2025-06-5', freq='5h')\n"
   ]
  },
  {
   "cell_type": "code",
   "execution_count": null,
   "id": "b2e9cd04",
   "metadata": {},
   "outputs": [
    {
     "data": {
      "text/plain": [
       "DatetimeIndex(['2025-06-30', '2025-07-31', '2025-08-31', '2025-09-30',\n",
       "               '2025-10-31', '2025-11-30'],\n",
       "              dtype='datetime64[ns]', freq='ME')"
      ]
     },
     "execution_count": 67,
     "metadata": {},
     "output_type": "execute_result"
    }
   ],
   "source": [
    "# ME --> Month end frequency\n",
    "pd.date_range(start='2025-06-01', end='2025-12-30', freq='ME')"
   ]
  },
  {
   "cell_type": "code",
   "execution_count": null,
   "id": "37c1d72b",
   "metadata": {},
   "outputs": [
    {
     "data": {
      "text/plain": [
       "DatetimeIndex(['2025-06-01', '2025-07-01', '2025-08-01', '2025-09-01',\n",
       "               '2025-10-01', '2025-11-01', '2025-12-01'],\n",
       "              dtype='datetime64[ns]', freq='MS')"
      ]
     },
     "execution_count": 68,
     "metadata": {},
     "output_type": "execute_result"
    }
   ],
   "source": [
    "# MS --> Month start frequency\n",
    "pd.date_range(start='2025-06-01', end='2025-12-30', freq='MS')"
   ]
  },
  {
   "cell_type": "code",
   "execution_count": 77,
   "id": "46ad370e",
   "metadata": {},
   "outputs": [
    {
     "data": {
      "text/plain": [
       "DatetimeIndex(['2025-12-31', '2026-12-31', '2027-12-31', '2028-12-31',\n",
       "               '2029-12-31'],\n",
       "              dtype='datetime64[ns]', freq='YE-DEC')"
      ]
     },
     "execution_count": 77,
     "metadata": {},
     "output_type": "execute_result"
    }
   ],
   "source": [
    "# YE --> year end\n",
    "pd.date_range(start='2025-06-01', end='2030-12-30', freq='YE')"
   ]
  },
  {
   "cell_type": "code",
   "execution_count": null,
   "id": "e23b2d5c",
   "metadata": {},
   "outputs": [
    {
     "data": {
      "text/plain": [
       "DatetimeIndex(['2026-01-01', '2027-01-01', '2028-01-01', '2029-01-01',\n",
       "               '2030-01-01'],\n",
       "              dtype='datetime64[ns]', freq='YS-JAN')"
      ]
     },
     "execution_count": 78,
     "metadata": {},
     "output_type": "execute_result"
    }
   ],
   "source": [
    "# YS --> year end\n",
    "pd.date_range(start='2025-06-01', end='2030-12-30', freq='YS')"
   ]
  },
  {
   "cell_type": "code",
   "execution_count": 85,
   "id": "fe34e2c1",
   "metadata": {},
   "outputs": [
    {
     "data": {
      "text/plain": [
       "DatetimeIndex(['2025-06-01 00:00:00', '2025-06-01 06:00:00',\n",
       "               '2025-06-01 12:00:00', '2025-06-01 18:00:00',\n",
       "               '2025-06-02 00:00:00', '2025-06-02 06:00:00',\n",
       "               '2025-06-02 12:00:00', '2025-06-02 18:00:00',\n",
       "               '2025-06-03 00:00:00', '2025-06-03 06:00:00',\n",
       "               '2025-06-03 12:00:00', '2025-06-03 18:00:00',\n",
       "               '2025-06-04 00:00:00', '2025-06-04 06:00:00',\n",
       "               '2025-06-04 12:00:00'],\n",
       "              dtype='datetime64[ns]', freq='6h')"
      ]
     },
     "execution_count": 85,
     "metadata": {},
     "output_type": "execute_result"
    }
   ],
   "source": [
    "pd.date_range(start='2025-06-01', periods = 15, freq = '6h')"
   ]
  },
  {
   "cell_type": "markdown",
   "id": "7b8b40ce",
   "metadata": {},
   "source": [
    "**`pd.to_datetime()`**"
   ]
  },
  {
   "cell_type": "code",
   "execution_count": 93,
   "id": "2a937232",
   "metadata": {},
   "outputs": [
    {
     "data": {
      "text/plain": [
       "pandas.core.series.Series"
      ]
     },
     "execution_count": 93,
     "metadata": {},
     "output_type": "execute_result"
    }
   ],
   "source": [
    "s = pd.Series(['2025-06-02', '2025-06-03', '2025-06-04', '2025-06-05','2025-06-06', '2025-06-09', '2025-06-10'])\n",
    "type(s)"
   ]
  },
  {
   "cell_type": "code",
   "execution_count": 97,
   "id": "374e1a26",
   "metadata": {},
   "outputs": [
    {
     "data": {
      "text/plain": [
       "0   2025-06-02\n",
       "1   2025-06-03\n",
       "2   2025-06-04\n",
       "3   2025-06-05\n",
       "4   2025-06-06\n",
       "5   2025-06-09\n",
       "6   2025-06-10\n",
       "dtype: datetime64[ns]"
      ]
     },
     "execution_count": 97,
     "metadata": {},
     "output_type": "execute_result"
    }
   ],
   "source": [
    "pd.to_datetime(s)"
   ]
  },
  {
   "cell_type": "code",
   "execution_count": 112,
   "id": "fa45884a",
   "metadata": {},
   "outputs": [
    {
     "name": "stdout",
     "output_type": "stream",
     "text": [
      "0       Monday\n",
      "1      Tuesday\n",
      "2    Wednesday\n",
      "3     Thursday\n",
      "4       Friday\n",
      "5       Monday\n",
      "6      Tuesday\n",
      "dtype: object\n",
      "0    June\n",
      "1    June\n",
      "2    June\n",
      "3    June\n",
      "4    June\n",
      "5    June\n",
      "6    June\n",
      "dtype: object\n",
      "0     2\n",
      "1     3\n",
      "2     4\n",
      "3     5\n",
      "4     6\n",
      "5     9\n",
      "6    10\n",
      "dtype: int32\n"
     ]
    }
   ],
   "source": [
    "print(pd.to_datetime(s).dt.day_name())\n",
    "print(pd.to_datetime(s).dt.month_name())\n",
    "print(pd.to_datetime(s).dt.day)"
   ]
  },
  {
   "cell_type": "code",
   "execution_count": 117,
   "id": "0b6628a7",
   "metadata": {},
   "outputs": [
    {
     "data": {
      "text/plain": [
       "0     2025-06-02\n",
       "1    2025-106-03\n",
       "2    2025-006-04\n",
       "3     2025-06-05\n",
       "4     2025-06-06\n",
       "5     2025-06-09\n",
       "6     2025-06-10\n",
       "dtype: object"
      ]
     },
     "execution_count": 117,
     "metadata": {},
     "output_type": "execute_result"
    }
   ],
   "source": [
    "s = pd.Series(['2025-06-02', '2025-106-03', '2025-006-04', '2025-06-05','2025-06-06', '2025-06-09', '2025-06-10'])\n",
    "s"
   ]
  },
  {
   "cell_type": "code",
   "execution_count": 120,
   "id": "a34ac2ff",
   "metadata": {},
   "outputs": [
    {
     "data": {
      "text/plain": [
       "0   2025-06-02\n",
       "1          NaT\n",
       "2          NaT\n",
       "3   2025-06-05\n",
       "4   2025-06-06\n",
       "5   2025-06-09\n",
       "6   2025-06-10\n",
       "dtype: datetime64[ns]"
      ]
     },
     "execution_count": 120,
     "metadata": {},
     "output_type": "execute_result"
    }
   ],
   "source": [
    "# with errors\n",
    "pd.to_datetime(s, errors='coerce')"
   ]
  },
  {
   "cell_type": "code",
   "execution_count": 126,
   "id": "d0e90e5e",
   "metadata": {},
   "outputs": [
    {
     "data": {
      "text/html": [
       "<div>\n",
       "<style scoped>\n",
       "    .dataframe tbody tr th:only-of-type {\n",
       "        vertical-align: middle;\n",
       "    }\n",
       "\n",
       "    .dataframe tbody tr th {\n",
       "        vertical-align: top;\n",
       "    }\n",
       "\n",
       "    .dataframe thead th {\n",
       "        text-align: right;\n",
       "    }\n",
       "</style>\n",
       "<table border=\"1\" class=\"dataframe\">\n",
       "  <thead>\n",
       "    <tr style=\"text-align: right;\">\n",
       "      <th></th>\n",
       "      <th>Date</th>\n",
       "      <th>Account</th>\n",
       "      <th>Category</th>\n",
       "      <th>Subcategory</th>\n",
       "      <th>Note</th>\n",
       "      <th>INR</th>\n",
       "      <th>Income/Expense</th>\n",
       "      <th>Note.1</th>\n",
       "      <th>Amount</th>\n",
       "      <th>Currency</th>\n",
       "      <th>Account.1</th>\n",
       "    </tr>\n",
       "  </thead>\n",
       "  <tbody>\n",
       "    <tr>\n",
       "      <th>0</th>\n",
       "      <td>3/2/2022 10:11</td>\n",
       "      <td>CUB - online payment</td>\n",
       "      <td>Food</td>\n",
       "      <td>NaN</td>\n",
       "      <td>Brownie</td>\n",
       "      <td>50.0</td>\n",
       "      <td>Expense</td>\n",
       "      <td>NaN</td>\n",
       "      <td>50.0</td>\n",
       "      <td>INR</td>\n",
       "      <td>50.0</td>\n",
       "    </tr>\n",
       "    <tr>\n",
       "      <th>1</th>\n",
       "      <td>3/2/2022 10:11</td>\n",
       "      <td>CUB - online payment</td>\n",
       "      <td>Other</td>\n",
       "      <td>NaN</td>\n",
       "      <td>To lended people</td>\n",
       "      <td>300.0</td>\n",
       "      <td>Expense</td>\n",
       "      <td>NaN</td>\n",
       "      <td>300.0</td>\n",
       "      <td>INR</td>\n",
       "      <td>300.0</td>\n",
       "    </tr>\n",
       "    <tr>\n",
       "      <th>2</th>\n",
       "      <td>3/1/2022 19:50</td>\n",
       "      <td>CUB - online payment</td>\n",
       "      <td>Food</td>\n",
       "      <td>NaN</td>\n",
       "      <td>Dinner</td>\n",
       "      <td>78.0</td>\n",
       "      <td>Expense</td>\n",
       "      <td>NaN</td>\n",
       "      <td>78.0</td>\n",
       "      <td>INR</td>\n",
       "      <td>78.0</td>\n",
       "    </tr>\n",
       "    <tr>\n",
       "      <th>3</th>\n",
       "      <td>3/1/2022 18:56</td>\n",
       "      <td>CUB - online payment</td>\n",
       "      <td>Transportation</td>\n",
       "      <td>NaN</td>\n",
       "      <td>Metro</td>\n",
       "      <td>30.0</td>\n",
       "      <td>Expense</td>\n",
       "      <td>NaN</td>\n",
       "      <td>30.0</td>\n",
       "      <td>INR</td>\n",
       "      <td>30.0</td>\n",
       "    </tr>\n",
       "    <tr>\n",
       "      <th>4</th>\n",
       "      <td>3/1/2022 18:22</td>\n",
       "      <td>CUB - online payment</td>\n",
       "      <td>Food</td>\n",
       "      <td>NaN</td>\n",
       "      <td>Snacks</td>\n",
       "      <td>67.0</td>\n",
       "      <td>Expense</td>\n",
       "      <td>NaN</td>\n",
       "      <td>67.0</td>\n",
       "      <td>INR</td>\n",
       "      <td>67.0</td>\n",
       "    </tr>\n",
       "  </tbody>\n",
       "</table>\n",
       "</div>"
      ],
      "text/plain": [
       "             Date               Account        Category  Subcategory  \\\n",
       "0  3/2/2022 10:11  CUB - online payment            Food          NaN   \n",
       "1  3/2/2022 10:11  CUB - online payment           Other          NaN   \n",
       "2  3/1/2022 19:50  CUB - online payment            Food          NaN   \n",
       "3  3/1/2022 18:56  CUB - online payment  Transportation          NaN   \n",
       "4  3/1/2022 18:22  CUB - online payment            Food          NaN   \n",
       "\n",
       "               Note    INR Income/Expense  Note.1  Amount Currency  Account.1  \n",
       "0           Brownie   50.0        Expense     NaN    50.0      INR       50.0  \n",
       "1  To lended people  300.0        Expense     NaN   300.0      INR      300.0  \n",
       "2            Dinner   78.0        Expense     NaN    78.0      INR       78.0  \n",
       "3             Metro   30.0        Expense     NaN    30.0      INR       30.0  \n",
       "4            Snacks   67.0        Expense     NaN    67.0      INR       67.0  "
      ]
     },
     "execution_count": 126,
     "metadata": {},
     "output_type": "execute_result"
    }
   ],
   "source": [
    "df = pd.read_csv('data\\\\expense_data.csv')\n",
    "df.head()"
   ]
  },
  {
   "cell_type": "code",
   "execution_count": 128,
   "id": "1dc28575",
   "metadata": {},
   "outputs": [
    {
     "name": "stdout",
     "output_type": "stream",
     "text": [
      "<class 'pandas.core.frame.DataFrame'>\n",
      "RangeIndex: 277 entries, 0 to 276\n",
      "Data columns (total 11 columns):\n",
      " #   Column          Non-Null Count  Dtype  \n",
      "---  ------          --------------  -----  \n",
      " 0   Date            277 non-null    object \n",
      " 1   Account         277 non-null    object \n",
      " 2   Category        277 non-null    object \n",
      " 3   Subcategory     0 non-null      float64\n",
      " 4   Note            273 non-null    object \n",
      " 5   INR             277 non-null    float64\n",
      " 6   Income/Expense  277 non-null    object \n",
      " 7   Note.1          0 non-null      float64\n",
      " 8   Amount          277 non-null    float64\n",
      " 9   Currency        277 non-null    object \n",
      " 10  Account.1       277 non-null    float64\n",
      "dtypes: float64(5), object(6)\n",
      "memory usage: 23.9+ KB\n"
     ]
    }
   ],
   "source": [
    "df.info()"
   ]
  },
  {
   "cell_type": "code",
   "execution_count": 130,
   "id": "8e413379",
   "metadata": {},
   "outputs": [],
   "source": [
    "df['Date'] = pd.to_datetime(df['Date'])"
   ]
  },
  {
   "cell_type": "code",
   "execution_count": 134,
   "id": "6abb72fc",
   "metadata": {},
   "outputs": [
    {
     "data": {
      "text/plain": [
       "0      2022\n",
       "1      2022\n",
       "2      2022\n",
       "3      2022\n",
       "4      2022\n",
       "       ... \n",
       "272    2021\n",
       "273    2021\n",
       "274    2021\n",
       "275    2021\n",
       "276    2021\n",
       "Name: Date, Length: 277, dtype: int32"
      ]
     },
     "execution_count": 134,
     "metadata": {},
     "output_type": "execute_result"
    }
   ],
   "source": [
    "df['Date'].dt.year"
   ]
  },
  {
   "cell_type": "code",
   "execution_count": 135,
   "id": "c18cd058",
   "metadata": {},
   "outputs": [
    {
     "data": {
      "text/plain": [
       "[<matplotlib.lines.Line2D at 0x1f7c59aeba0>]"
      ]
     },
     "execution_count": 135,
     "metadata": {},
     "output_type": "execute_result"
    },
    {
     "data": {
      "image/png": "[encoded data removed]",
      "text/plain": [
       "<Figure size 640x480 with 1 Axes>"
      ]
     },
     "metadata": {},
     "output_type": "display_data"
    }
   ],
   "source": [
    "# ploting using date\n",
    "import matplotlib.pyplot as plt\n",
    "\n",
    "plt.plot(df['Date'], df['Amount'])"
   ]
  },
  {
   "cell_type": "code",
   "execution_count": 139,
   "id": "8c3e6d53",
   "metadata": {},
   "outputs": [
    {
     "data": {
      "text/plain": [
       "<BarContainer object of 277 artists>"
      ]
     },
     "execution_count": 139,
     "metadata": {},
     "output_type": "execute_result"
    },
    {
     "data": {
      "image/png": "[encoded data removed]",
      "text/plain": [
       "<Figure size 640x480 with 1 Axes>"
      ]
     },
     "metadata": {},
     "output_type": "display_data"
    }
   ],
   "source": [
    "plt.bar(df['Date'].dt.day_name(), df['Amount'])"
   ]
  },
  {
   "cell_type": "code",
   "execution_count": 138,
   "id": "ee471ea9",
   "metadata": {},
   "outputs": [
    {
     "data": {
      "text/plain": [
       "<BarContainer object of 277 artists>"
      ]
     },
     "execution_count": 138,
     "metadata": {},
     "output_type": "execute_result"
    },
    {
     "data": {
      "image/png": "[encoded data removed]",
      "text/plain": [
       "<Figure size 640x480 with 1 Axes>"
      ]
     },
     "metadata": {},
     "output_type": "display_data"
    }
   ],
   "source": [
    "plt.bar(df['Date'].dt.month_name(), df['Amount'])"
   ]
  },
  {
   "cell_type": "code",
   "execution_count": null,
   "id": "70ab7c45",
   "metadata": {},
   "outputs": [],
   "source": []
  }
 ],
 "metadata": {
  "kernelspec": {
   "display_name": "base",
   "language": "python",
   "name": "python3"
  },
  "language_info": {
   "codemirror_mode": {
    "name": "ipython",
    "version": 3
   },
   "file_extension": ".py",
   "mimetype": "text/x-python",
   "name": "python",
   "nbconvert_exporter": "python",
   "pygments_lexer": "ipython3",
   "version": "3.12.4"
  }
 },
 "nbformat": 4,
 "nbformat_minor": 5
}
