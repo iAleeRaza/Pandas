{
 "cells": [
  {
   "cell_type": "code",
   "execution_count": 1,
   "id": "4faec292",
   "metadata": {},
   "outputs": [],
   "source": [
    "import numpy as np\n",
    "import pandas as pd"
   ]
  },
  {
   "cell_type": "code",
   "execution_count": 3,
   "metadata": {},
   "outputs": [
    {
     "name": "stdout",
     "output_type": "stream",
     "text": [
      "2023-10-01 12:00:00\n",
      "<class 'pandas._libs.tslibs.timestamps.Timestamp'>\n"
     ]
    }
   ],
   "source": [
    "# creating a timestamp\n",
    "timestamp = pd.Timestamp('2023-10-01 12:00:00')\n",
    "print(timestamp)\n",
    "print(type(timestamp))\n"
   ]
  },
  {
   "cell_type": "code",
   "execution_count": 13,
   "metadata": {},
   "outputs": [
    {
     "name": "stdout",
     "output_type": "stream",
     "text": [
      "2025-01-01 00:00:00\n",
      "2025-10-01 00:00:00\n",
      "2025-11-21 21:21:00\n",
      "2025-12-21 00:00:00\n",
      "2025-01-01 00:00:00\n"
     ]
    }
   ],
   "source": [
    "# Flexibility in timestamp creation\n",
    "print(pd.Timestamp('2025,10,01'))\n",
    "print(pd.Timestamp('2025/10/01'))\n",
    "print(pd.Timestamp('21st Nov 2025 9:21 PM'))\n",
    "print(pd.Timestamp('21 12 2025'))\n",
    "print(pd.Timestamp('2025'))\n"
   ]
  },
  {
   "cell_type": "code",
   "execution_count": 37,
   "metadata": {},
   "outputs": [
    {
     "data": {
      "text/plain": [
       "datetime.datetime(2025, 10, 1, 12, 34, 45)"
      ]
     },
     "execution_count": 37,
     "metadata": {},
     "output_type": "execute_result"
    }
   ],
   "source": [
    "# using datetime.datetime\n",
    "import datetime as dt\n",
    "\n",
    "dt.datetime(2025, 10, 1, 12, 34, 45)"
   ]
  },
  {
   "cell_type": "code",
   "execution_count": 39,
   "id": "1e44e0b3",
   "metadata": {},
   "outputs": [
    {
     "data": {
      "text/plain": [
       "Timestamp('2025-10-01 12:34:45')"
      ]
     },
     "execution_count": 39,
     "metadata": {},
     "output_type": "execute_result"
    }
   ],
   "source": [
    "# we can use datetime.datetime to create a timestamp\n",
    "stamp = pd.Timestamp(dt.datetime(2025, 10, 1, 12, 34, 45))\n",
    "stamp"
   ]
  },
  {
   "cell_type": "code",
   "execution_count": 40,
   "id": "950551c1",
   "metadata": {},
   "outputs": [
    {
     "name": "stdout",
     "output_type": "stream",
     "text": [
      "2025\n",
      "10\n",
      "1\n",
      "12\n",
      "34\n",
      "45\n"
     ]
    }
   ],
   "source": [
    "print(stamp.year, stamp.month, stamp.day, stamp.hour, stamp.minute, stamp.second , sep = '\\n')"
   ]
  },
  {
   "cell_type": "markdown",
   "id": "5e3e70c6",
   "metadata": {},
   "source": [
    "**`Datetime index`**\n",
    "- Bunch of Timestamps"
   ]
  },
  {
   "cell_type": "code",
   "execution_count": 41,
   "id": "6cad594e",
   "metadata": {},
   "outputs": [],
   "source": [
    "dt_index = pd.DatetimeIndex(['29-10-25', '30-10-25', '31-10-25'])"
   ]
  },
  {
   "cell_type": "code",
   "execution_count": 42,
   "id": "f58488a2",
   "metadata": {},
   "outputs": [
    {
     "data": {
      "text/plain": [
       "Timestamp('2025-10-29 00:00:00')"
      ]
     },
     "execution_count": 42,
     "metadata": {},
     "output_type": "execute_result"
    }
   ],
   "source": [
    "dt_index[0]"
   ]
  },
  {
   "cell_type": "code",
   "execution_count": 43,
   "id": "b398356f",
   "metadata": {},
   "outputs": [
    {
     "data": {
      "text/plain": [
       "DatetimeIndex(['2025-10-29', '2025-10-30', '2025-10-31'], dtype='datetime64[ns]', freq=None)"
      ]
     },
     "execution_count": 43,
     "metadata": {},
     "output_type": "execute_result"
    }
   ],
   "source": [
    "# datetime index using datetime module\n",
    "pd.DatetimeIndex([dt.datetime(2025, 10, 29), dt.datetime(2025, 10, 30), dt.datetime(2025, 10, 31)])"
   ]
  },
  {
   "cell_type": "code",
   "execution_count": 44,
   "id": "e43ca196",
   "metadata": {},
   "outputs": [
    {
     "data": {
      "text/plain": [
       "DatetimeIndex(['2025-10-29', '2025-10-30', '2025-10-31'], dtype='datetime64[ns]', freq=None)"
      ]
     },
     "execution_count": 44,
     "metadata": {},
     "output_type": "execute_result"
    }
   ],
   "source": [
    "pd.DatetimeIndex([pd.Timestamp(2025, 10, 29), pd.Timestamp(2025, 10, 30), pd.Timestamp(2025, 10, 31)])"
   ]
  },
  {
   "cell_type": "code",
   "execution_count": 45,
   "id": "6a518994",
   "metadata": {},
   "outputs": [
    {
     "data": {
      "text/plain": [
       "DatetimeIndex(['2025-10-29', '2025-10-30', '2025-10-31'], dtype='datetime64[ns]', freq=None)"
      ]
     },
     "execution_count": 45,
     "metadata": {},
     "output_type": "execute_result"
    }
   ],
   "source": [
    "dt_index"
   ]
  },
  {
   "cell_type": "code",
   "execution_count": 46,
   "id": "b241d280",
   "metadata": {},
   "outputs": [
    {
     "name": "stdout",
     "output_type": "stream",
     "text": [
      "2025-10-29    1\n",
      "2025-10-30    2\n",
      "2025-10-31    3\n",
      "dtype: int64\n"
     ]
    }
   ],
   "source": [
    "# using DatetimeIndex as index in a Series/Dataframe\n",
    "s = pd.Series([1, 2, 3], index=dt_index)\n",
    "print(s)"
   ]
  },
  {
   "cell_type": "markdown",
   "id": "db6626ca",
   "metadata": {},
   "source": [
    "**`date_range function`**\n",
    "- Generates a range of timestamps based on the input parameters."
   ]
  },
  {
   "cell_type": "code",
   "execution_count": 57,
   "id": "7b6a8a4f",
   "metadata": {},
   "outputs": [
    {
     "data": {
      "text/plain": [
       "DatetimeIndex(['2025-06-01', '2025-06-02', '2025-06-03', '2025-06-04',\n",
       "               '2025-06-05', '2025-06-06', '2025-06-07', '2025-06-08',\n",
       "               '2025-06-09', '2025-06-10', '2025-06-11', '2025-06-12',\n",
       "               '2025-06-13', '2025-06-14', '2025-06-15', '2025-06-16',\n",
       "               '2025-06-17', '2025-06-18', '2025-06-19', '2025-06-20',\n",
       "               '2025-06-21', '2025-06-22', '2025-06-23', '2025-06-24',\n",
       "               '2025-06-25', '2025-06-26', '2025-06-27', '2025-06-28',\n",
       "               '2025-06-29', '2025-06-30'],\n",
       "              dtype='datetime64[ns]', freq='D')"
      ]
     },
     "execution_count": 57,
     "metadata": {},
     "output_type": "execute_result"
    }
   ],
   "source": [
    "pd.date_range(start='2025-06-01', end='2025-06-30')"
   ]
  },
  {
   "cell_type": "code",
   "execution_count": 79,
   "id": "0d563cec",
   "metadata": {},
   "outputs": [
    {
     "data": {
      "text/plain": [
       "DatetimeIndex(['2025-06-01', '2025-06-02', '2025-06-03', '2025-06-04',\n",
       "               '2025-06-05', '2025-06-06', '2025-06-07', '2025-06-08',\n",
       "               '2025-06-09', '2025-06-10', '2025-06-11', '2025-06-12',\n",
       "               '2025-06-13', '2025-06-14', '2025-06-15'],\n",
       "              dtype='datetime64[ns]', freq='D')"
      ]
     },
     "execution_count": 79,
     "metadata": {},
     "output_type": "execute_result"
    }
   ],
   "source": [
    "# periods parameter\n",
    "pd.date_range(start='2025-06-01', periods = 15)"
   ]
  },
  {
   "cell_type": "code",
   "execution_count": 80,
   "id": "38007d3f",
   "metadata": {},
   "outputs": [
    {
     "data": {
      "text/plain": [
       "DatetimeIndex(['2025-06-01', '2025-06-02', '2025-06-03', '2025-06-04',\n",
       "               '2025-06-05'],\n",
       "              dtype='datetime64[ns]', freq='D')"
      ]
     },
     "execution_count": 80,
     "metadata": {},
     "output_type": "execute_result"
    }
   ],
   "source": [
    "pd.date_range(start='2025-06-01', periods = 5)"
   ]
  },
  {
   "cell_type": "markdown",
   "id": "8ef50f3a",
   "metadata": {},
   "source": [
    "**`freq parameter`**"
   ]
  },
  {
   "cell_type": "code",
   "execution_count": 58,
   "id": "79f4a712",
   "metadata": {},
   "outputs": [
    {
     "data": {
      "text/plain": [
       "DatetimeIndex(['2025-06-01', '2025-06-03', '2025-06-05', '2025-06-07',\n",
       "               '2025-06-09', '2025-06-11', '2025-06-13', '2025-06-15',\n",
       "               '2025-06-17', '2025-06-19', '2025-06-21', '2025-06-23',\n",
       "               '2025-06-25', '2025-06-27', '2025-06-29'],\n",
       "              dtype='datetime64[ns]', freq='2D')"
      ]
     },
     "execution_count": 58,
     "metadata": {},
     "output_type": "execute_result"
    }
   ],
   "source": [
    "# frequency in date_range\n",
    "pd.date_range(start='2025-06-01', end='2025-06-30', freq='2D')"
   ]
  },
  {
   "cell_type": "code",
   "execution_count": 59,
   "id": "ade85ba7",
   "metadata": {},
   "outputs": [
    {
     "data": {
      "text/plain": [
       "DatetimeIndex(['2025-06-01', '2025-06-04', '2025-06-07', '2025-06-10',\n",
       "               '2025-06-13', '2025-06-16', '2025-06-19', '2025-06-22',\n",
       "               '2025-06-25', '2025-06-28'],\n",
       "              dtype='datetime64[ns]', freq='3D')"
      ]
     },
     "execution_count": 59,
     "metadata": {},
     "output_type": "execute_result"
    }
   ],
   "source": [
    "pd.date_range(start='2025-06-01', end='2025-06-30', freq='3D')"
   ]
  },
  {
   "cell_type": "code",
   "execution_count": 61,
   "id": "40f20a5d",
   "metadata": {},
   "outputs": [
    {
     "data": {
      "text/plain": [
       "DatetimeIndex(['2025-06-02', '2025-06-03', '2025-06-04', '2025-06-05',\n",
       "               '2025-06-06', '2025-06-09', '2025-06-10', '2025-06-11',\n",
       "               '2025-06-12', '2025-06-13', '2025-06-16', '2025-06-17',\n",
       "               '2025-06-18', '2025-06-19', '2025-06-20', '2025-06-23',\n",
       "               '2025-06-24', '2025-06-25', '2025-06-26', '2025-06-27',\n",
       "               '2025-06-30'],\n",
       "              dtype='datetime64[ns]', freq='B')"
      ]
     },
     "execution_count": 61,
     "metadata": {},
     "output_type": "execute_result"
    }
   ],
   "source": [
    "# Bussiness days frequency\n",
    "pd.date_range(start='2025-06-01', end='2025-06-30', freq='B')"
   ]
  },
  {
   "cell_type": "code",
   "execution_count": 63,
   "id": "48fa2373",
   "metadata": {},
   "outputs": [
    {
     "data": {
      "text/plain": [
       "DatetimeIndex(['2025-06-05', '2025-06-12', '2025-06-19', '2025-06-26'], dtype='datetime64[ns]', freq='W-THU')"
      ]
     },
     "execution_count": 63,
     "metadata": {},
     "output_type": "execute_result"
    }
   ],
   "source": [
    "# freq = 'W-DAY' --> grabs the specified day in each week\n",
    "pd.date_range(start='2025-06-01', end='2025-06-30', freq='W-MON')\n",
    "pd.date_range(start='2025-06-01', end='2025-06-30', freq='W-THU')"
   ]
  },
  {
   "cell_type": "code",
   "execution_count": null,
   "id": "32ca8cbd",
   "metadata": {},
   "outputs": [
    {
     "data": {
      "text/plain": [
       "DatetimeIndex(['2025-06-01 00:00:00', '2025-06-01 05:00:00',\n",
       "               '2025-06-01 10:00:00', '2025-06-01 15:00:00',\n",
       "               '2025-06-01 20:00:00', '2025-06-02 01:00:00',\n",
       "               '2025-06-02 06:00:00', '2025-06-02 11:00:00',\n",
       "               '2025-06-02 16:00:00', '2025-06-02 21:00:00',\n",
       "               '2025-06-03 02:00:00', '2025-06-03 07:00:00',\n",
       "               '2025-06-03 12:00:00', '2025-06-03 17:00:00',\n",
       "               '2025-06-03 22:00:00', '2025-06-04 03:00:00',\n",
       "               '2025-06-04 08:00:00', '2025-06-04 13:00:00',\n",
       "               '2025-06-04 18:00:00', '2025-06-04 23:00:00'],\n",
       "              dtype='datetime64[ns]', freq='5h')"
      ]
     },
     "execution_count": 72,
     "metadata": {},
     "output_type": "execute_result"
    }
   ],
   "source": [
    "# nh --> Hourly dates\n",
    "pd.date_range(start='2025-06-01', end='2025-06-5', freq='5h')\n"
   ]
  },
  {
   "cell_type": "code",
   "execution_count": null,
   "id": "b2e9cd04",
   "metadata": {},
   "outputs": [
    {
     "data": {
      "text/plain": [
       "DatetimeIndex(['2025-06-30', '2025-07-31', '2025-08-31', '2025-09-30',\n",
       "               '2025-10-31', '2025-11-30'],\n",
       "              dtype='datetime64[ns]', freq='ME')"
      ]
     },
     "execution_count": 67,
     "metadata": {},
     "output_type": "execute_result"
    }
   ],
   "source": [
    "# ME --> Month end frequency\n",
    "pd.date_range(start='2025-06-01', end='2025-12-30', freq='ME')"
   ]
  },
  {
   "cell_type": "code",
   "execution_count": null,
   "id": "37c1d72b",
   "metadata": {},
   "outputs": [
    {
     "data": {
      "text/plain": [
       "DatetimeIndex(['2025-06-01', '2025-07-01', '2025-08-01', '2025-09-01',\n",
       "               '2025-10-01', '2025-11-01', '2025-12-01'],\n",
       "              dtype='datetime64[ns]', freq='MS')"
      ]
     },
     "execution_count": 68,
     "metadata": {},
     "output_type": "execute_result"
    }
   ],
   "source": [
    "# MS --> Month start frequency\n",
    "pd.date_range(start='2025-06-01', end='2025-12-30', freq='MS')"
   ]
  },
  {
   "cell_type": "code",
   "execution_count": 77,
   "id": "46ad370e",
   "metadata": {},
   "outputs": [
    {
     "data": {
      "text/plain": [
       "DatetimeIndex(['2025-12-31', '2026-12-31', '2027-12-31', '2028-12-31',\n",
       "               '2029-12-31'],\n",
       "              dtype='datetime64[ns]', freq='YE-DEC')"
      ]
     },
     "execution_count": 77,
     "metadata": {},
     "output_type": "execute_result"
    }
   ],
   "source": [
    "# YE --> year end\n",
    "pd.date_range(start='2025-06-01', end='2030-12-30', freq='YE')"
   ]
  },
  {
   "cell_type": "code",
   "execution_count": null,
   "id": "e23b2d5c",
   "metadata": {},
   "outputs": [
    {
     "data": {
      "text/plain": [
       "DatetimeIndex(['2026-01-01', '2027-01-01', '2028-01-01', '2029-01-01',\n",
       "               '2030-01-01'],\n",
       "              dtype='datetime64[ns]', freq='YS-JAN')"
      ]
     },
     "execution_count": 78,
     "metadata": {},
     "output_type": "execute_result"
    }
   ],
   "source": [
    "# YS --> year end\n",
    "pd.date_range(start='2025-06-01', end='2030-12-30', freq='YS')"
   ]
  },
  {
   "cell_type": "code",
   "execution_count": 85,
   "id": "fe34e2c1",
   "metadata": {},
   "outputs": [
    {
     "data": {
      "text/plain": [
       "DatetimeIndex(['2025-06-01 00:00:00', '2025-06-01 06:00:00',\n",
       "               '2025-06-01 12:00:00', '2025-06-01 18:00:00',\n",
       "               '2025-06-02 00:00:00', '2025-06-02 06:00:00',\n",
       "               '2025-06-02 12:00:00', '2025-06-02 18:00:00',\n",
       "               '2025-06-03 00:00:00', '2025-06-03 06:00:00',\n",
       "               '2025-06-03 12:00:00', '2025-06-03 18:00:00',\n",
       "               '2025-06-04 00:00:00', '2025-06-04 06:00:00',\n",
       "               '2025-06-04 12:00:00'],\n",
       "              dtype='datetime64[ns]', freq='6h')"
      ]
     },
     "execution_count": 85,
     "metadata": {},
     "output_type": "execute_result"
    }
   ],
   "source": [
    "pd.date_range(start='2025-06-01', periods = 15, freq = '6h')"
   ]
  },
  {
   "cell_type": "markdown",
   "id": "7b8b40ce",
   "metadata": {},
   "source": [
    "**`pd.to_datetime()`**"
   ]
  },
  {
   "cell_type": "code",
   "execution_count": 93,
   "id": "2a937232",
   "metadata": {},
   "outputs": [
    {
     "data": {
      "text/plain": [
       "pandas.core.series.Series"
      ]
     },
     "execution_count": 93,
     "metadata": {},
     "output_type": "execute_result"
    }
   ],
   "source": [
    "s = pd.Series(['2025-06-02', '2025-06-03', '2025-06-04', '2025-06-05','2025-06-06', '2025-06-09', '2025-06-10'])\n",
    "type(s)"
   ]
  },
  {
   "cell_type": "code",
   "execution_count": null,
   "id": "374e1a26",
   "metadata": {},
   "outputs": [],
   "source": [
    "pd.to_datetime(s)"
   ]
  },
  {
   "cell_type": "code",
   "execution_count": 96,
   "id": "fa45884a",
   "metadata": {},
   "outputs": [
    {
     "data": {
      "text/plain": [
       "0     2\n",
       "1     3\n",
       "2     4\n",
       "3     5\n",
       "4     6\n",
       "5     9\n",
       "6    10\n",
       "dtype: int32"
      ]
     },
     "execution_count": 96,
     "metadata": {},
     "output_type": "execute_result"
    }
   ],
   "source": [
    "pd.to_datetime(s).dt.day"
   ]
  },
  {
   "cell_type": "code",
   "execution_count": null,
   "id": "0b6628a7",
   "metadata": {},
   "outputs": [],
   "source": []
  }
 ],
 "metadata": {
  "kernelspec": {
   "display_name": "base",
   "language": "python",
   "name": "python3"
  },
  "language_info": {
   "codemirror_mode": {
    "name": "ipython",
    "version": 3
   },
   "file_extension": ".py",
   "mimetype": "text/x-python",
   "name": "python",
   "nbconvert_exporter": "python",
   "pygments_lexer": "ipython3",
   "version": "3.12.4"
  }
 },
 "nbformat": 4,
 "nbformat_minor": 5
}
