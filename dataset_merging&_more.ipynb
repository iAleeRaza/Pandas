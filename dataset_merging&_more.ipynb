{
 "cells": [
  {
   "cell_type": "code",
   "execution_count": 1,
   "id": "a2fc0dbf",
   "metadata": {},
   "outputs": [],
   "source": [
    "import numpy as np\n",
    "import pandas as pd"
   ]
  },
  {
   "cell_type": "code",
   "execution_count": 7,
   "id": "85aa343d",
   "metadata": {},
   "outputs": [],
   "source": [
    "courses = pd.read_csv('data\\\\courses.csv')\n",
    "students = pd.read_csv('data\\\\students.csv')\n",
    "november = pd.read_csv('data\\\\reg-month1.csv')\n",
    "december = pd.read_csv('data\\\\reg-month2.csv')\n",
    "matches = pd.read_csv('data\\\\matches.csv')\n",
    "# deliveries = pd.read_csv('data\\\\deliveries.csv')"
   ]
  },
  {
   "cell_type": "code",
   "execution_count": null,
   "metadata": {},
   "outputs": [],
   "source": []
  },
  {
   "cell_type": "code",
   "execution_count": null,
   "id": "da7b1f7e",
   "metadata": {},
   "outputs": [],
   "source": []
  }
 ],
 "metadata": {
  "kernelspec": {
   "display_name": "base",
   "language": "python",
   "name": "python3"
  },
  "language_info": {
   "codemirror_mode": {
    "name": "ipython",
    "version": 3
   },
   "file_extension": ".py",
   "mimetype": "text/x-python",
   "name": "python",
   "nbconvert_exporter": "python",
   "pygments_lexer": "ipython3",
   "version": "3.12.4"
  }
 },
 "nbformat": 4,
 "nbformat_minor": 5
}
